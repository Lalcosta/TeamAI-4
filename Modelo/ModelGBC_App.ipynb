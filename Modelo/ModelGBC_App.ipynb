{
  "cells": [
    {
      "cell_type": "markdown",
      "metadata": {
        "id": "0IdZi7aIYhCG"
      },
      "source": [
        "<h1> Momento de Retroalimentación: Modelación\n",
        "<h1/>\n"
      ]
    },
    {
      "cell_type": "markdown",
      "metadata": {
        "id": "4qJ2WPyfZFDv"
      },
      "source": [
        "\n",
        "\n",
        "```\n",
        "# Equipo 4\n",
        "Abraham Gil Félix | A01750884\n",
        "Carlos de Jésus Ávila González | A01750220\n",
        "Enrique Maldonado Chavarría | A01652370\n",
        "Juan Daniel Aranda Morales  | A01379571\n",
        "Eduardo Acosta Hernández | A01375206\n",
        "```\n",
        "\n"
      ]
    },
    {
      "cell_type": "markdown",
      "metadata": {
        "id": "PPAbvwNp3hPA"
      },
      "source": [
        "# Spaceship Titanic"
      ]
    },
    {
      "cell_type": "code",
      "execution_count": null,
      "metadata": {
        "colab": {
          "base_uri": "https://localhost:8080/"
        },
        "id": "X3ZJS8qXIj5H",
        "outputId": "0df76798-3dcb-4493-ac5f-5b3aaa0dc75b"
      },
      "outputs": [
        {
          "output_type": "stream",
          "name": "stdout",
          "text": [
            "Looking in indexes: https://pypi.org/simple, https://us-python.pkg.dev/colab-wheels/public/simple/\n",
            "Collecting scikeras\n",
            "  Downloading scikeras-0.9.0-py3-none-any.whl (27 kB)\n",
            "Requirement already satisfied: scikit-learn>=1.0.0 in /usr/local/lib/python3.7/dist-packages (from scikeras) (1.0.2)\n",
            "Requirement already satisfied: packaging>=0.21 in /usr/local/lib/python3.7/dist-packages (from scikeras) (21.3)\n",
            "Requirement already satisfied: importlib-metadata>=3 in /usr/local/lib/python3.7/dist-packages (from scikeras) (4.12.0)\n",
            "Requirement already satisfied: typing-extensions>=3.6.4 in /usr/local/lib/python3.7/dist-packages (from importlib-metadata>=3->scikeras) (4.1.1)\n",
            "Requirement already satisfied: zipp>=0.5 in /usr/local/lib/python3.7/dist-packages (from importlib-metadata>=3->scikeras) (3.8.1)\n",
            "Requirement already satisfied: pyparsing!=3.0.5,>=2.0.2 in /usr/local/lib/python3.7/dist-packages (from packaging>=0.21->scikeras) (3.0.9)\n",
            "Requirement already satisfied: joblib>=0.11 in /usr/local/lib/python3.7/dist-packages (from scikit-learn>=1.0.0->scikeras) (1.1.0)\n",
            "Requirement already satisfied: numpy>=1.14.6 in /usr/local/lib/python3.7/dist-packages (from scikit-learn>=1.0.0->scikeras) (1.21.6)\n",
            "Requirement already satisfied: scipy>=1.1.0 in /usr/local/lib/python3.7/dist-packages (from scikit-learn>=1.0.0->scikeras) (1.7.3)\n",
            "Requirement already satisfied: threadpoolctl>=2.0.0 in /usr/local/lib/python3.7/dist-packages (from scikit-learn>=1.0.0->scikeras) (3.1.0)\n",
            "Installing collected packages: scikeras\n",
            "Successfully installed scikeras-0.9.0\n"
          ]
        }
      ],
      "source": [
        "!pip install scikeras"
      ]
    },
    {
      "cell_type": "markdown",
      "metadata": {
        "id": "wYy-e9W73hPH"
      },
      "source": [
        "## Importación de librerías"
      ]
    },
    {
      "cell_type": "code",
      "execution_count": null,
      "metadata": {
        "id": "T18pTywM3hPJ"
      },
      "outputs": [],
      "source": [
        "import re\n",
        "import os\n",
        "import pydot \n",
        "import pandas as pd\n",
        "import numpy as np\n",
        "\n",
        "# Exportar modelos de ML\n",
        "from joblib import dump, load\n",
        "\n",
        "import matplotlib.pyplot as plt\n",
        "%matplotlib inline\n",
        "import plotly.express as px\n",
        "import plotly.graph_objects as go\n",
        "\n",
        "import seaborn as sns\n",
        "from scipy.linalg import sqrtm\n",
        "\n",
        "from sklearn.datasets import make_classification\n",
        "from sklearn.preprocessing import StandardScaler\n",
        "from sklearn.preprocessing import LabelEncoder\n",
        "from sklearn.metrics import confusion_matrix, accuracy_score, recall_score\n",
        "from sklearn.metrics import classification_report\n",
        "\n",
        "from sklearn.tree import DecisionTreeClassifier, export_graphviz\n",
        "from sklearn.ensemble import RandomForestClassifier\n",
        "from sklearn.ensemble import GradientBoostingClassifier\n",
        "from sklearn.neighbors import KNeighborsClassifier\n",
        "from sklearn.linear_model import LogisticRegression\n",
        "from sklearn.naive_bayes import GaussianNB\n",
        "from sklearn import svm\n",
        "from sklearn.svm import SVC\n",
        "\n",
        "from sklearn.model_selection import train_test_split\n",
        "from sklearn.model_selection import GridSearchCV, ParameterGrid\n",
        "\n",
        "from tensorflow import keras\n",
        "from tensorflow.keras import layers\n",
        "\n",
        "from keras.layers import Dense\n",
        "from keras.models import Sequential\n",
        "from scikeras.wrappers import KerasClassifier"
      ]
    },
    {
      "cell_type": "code",
      "execution_count": null,
      "metadata": {
        "id": "HZsRlWqa4tO5",
        "colab": {
          "base_uri": "https://localhost:8080/"
        },
        "outputId": "fc1257a9-0e9e-4298-8677-605596261fbf"
      },
      "outputs": [
        {
          "output_type": "stream",
          "name": "stdout",
          "text": [
            "Mounted at /content/drive\n"
          ]
        }
      ],
      "source": [
        "# Conexión con Google Colab\n",
        "from google.colab import drive\n",
        "drive.mount('/content/drive')"
      ]
    },
    {
      "cell_type": "markdown",
      "metadata": {
        "id": "NdX1bzSz3hPL"
      },
      "source": [
        "## Carga de los datos"
      ]
    },
    {
      "cell_type": "markdown",
      "metadata": {
        "id": "VbICYha3GCbm"
      },
      "source": [
        "Dado que se tienen los datos divididos en dos grandes conjuntos (entrenamiento y prueba), no es necesario utilizar la función train_test_split de sklearn para la partición del dataset."
      ]
    },
    {
      "cell_type": "code",
      "execution_count": null,
      "metadata": {
        "id": "mZ38NyLO3hPM"
      },
      "outputs": [],
      "source": [
        "# Carga del conjunto de entrenamiento\n",
        "train_set = pd.read_csv('/content/drive/Shareddrives/TeamAI-4/Reto/train.csv')"
      ]
    },
    {
      "cell_type": "code",
      "execution_count": null,
      "metadata": {
        "id": "opLcAZnm3hPN"
      },
      "outputs": [],
      "source": [
        "# Carga del conjunto de prueba\n",
        "test_set = pd.read_csv('/content/drive/Shareddrives/TeamAI-4/Reto/test.csv')"
      ]
    },
    {
      "cell_type": "markdown",
      "metadata": {
        "id": "8cBIPvmW3hPN"
      },
      "source": [
        "## Análisis exploratorio de los datos"
      ]
    },
    {
      "cell_type": "markdown",
      "metadata": {
        "id": "Xjttn1q-Sh-q"
      },
      "source": [
        "Realizamos una exploración del conjunto de datos, con la finalidad de conocer su estructura y sus principales características.\n",
        "\n",
        "Detectamos datos faltantes en distintas variables del dataset, por lo que realizamos el tratamiento en cada una de estas para posteriormente obtener un resultado óptimo al introducir los datos a nuestro modelo de entrenamiento. Este proceso se debe hacer por separado entre los datos train y test ya que, de esta forma no se afectará uno al otro al momento de hacer la limpieza y preprocesado de los datos."
      ]
    },
    {
      "cell_type": "code",
      "execution_count": null,
      "metadata": {
        "id": "pj6W3zob3hPO",
        "colab": {
          "base_uri": "https://localhost:8080/"
        },
        "outputId": "75659b02-e93f-428d-9ce7-f8eeb13125af"
      },
      "outputs": [
        {
          "output_type": "stream",
          "name": "stdout",
          "text": [
            "<class 'pandas.core.frame.DataFrame'>\n",
            "RangeIndex: 8693 entries, 0 to 8692\n",
            "Data columns (total 14 columns):\n",
            " #   Column        Non-Null Count  Dtype  \n",
            "---  ------        --------------  -----  \n",
            " 0   PassengerId   8693 non-null   object \n",
            " 1   HomePlanet    8492 non-null   object \n",
            " 2   CryoSleep     8476 non-null   object \n",
            " 3   Cabin         8494 non-null   object \n",
            " 4   Destination   8511 non-null   object \n",
            " 5   Age           8514 non-null   float64\n",
            " 6   VIP           8490 non-null   object \n",
            " 7   RoomService   8512 non-null   float64\n",
            " 8   FoodCourt     8510 non-null   float64\n",
            " 9   ShoppingMall  8485 non-null   float64\n",
            " 10  Spa           8510 non-null   float64\n",
            " 11  VRDeck        8505 non-null   float64\n",
            " 12  Name          8493 non-null   object \n",
            " 13  Transported   8693 non-null   bool   \n",
            "dtypes: bool(1), float64(6), object(7)\n",
            "memory usage: 891.5+ KB\n"
          ]
        }
      ],
      "source": [
        "# Visualización de las variables y su tipo del conjunto de datos de entrenamiento\n",
        "train_set.info()"
      ]
    },
    {
      "cell_type": "code",
      "execution_count": null,
      "metadata": {
        "id": "3cqSCcBs3hPQ",
        "colab": {
          "base_uri": "https://localhost:8080/"
        },
        "outputId": "a2ea9a4e-617f-4cbf-97cd-38816c6ab3b1"
      },
      "outputs": [
        {
          "output_type": "stream",
          "name": "stdout",
          "text": [
            "<class 'pandas.core.frame.DataFrame'>\n",
            "RangeIndex: 4277 entries, 0 to 4276\n",
            "Data columns (total 13 columns):\n",
            " #   Column        Non-Null Count  Dtype  \n",
            "---  ------        --------------  -----  \n",
            " 0   PassengerId   4277 non-null   object \n",
            " 1   HomePlanet    4190 non-null   object \n",
            " 2   CryoSleep     4184 non-null   object \n",
            " 3   Cabin         4177 non-null   object \n",
            " 4   Destination   4185 non-null   object \n",
            " 5   Age           4186 non-null   float64\n",
            " 6   VIP           4184 non-null   object \n",
            " 7   RoomService   4195 non-null   float64\n",
            " 8   FoodCourt     4171 non-null   float64\n",
            " 9   ShoppingMall  4179 non-null   float64\n",
            " 10  Spa           4176 non-null   float64\n",
            " 11  VRDeck        4197 non-null   float64\n",
            " 12  Name          4183 non-null   object \n",
            "dtypes: float64(6), object(7)\n",
            "memory usage: 434.5+ KB\n"
          ]
        }
      ],
      "source": [
        "# Visualización de las variables y su tipo del conjunto de datos de prueba\n",
        "test_set.info()"
      ]
    },
    {
      "cell_type": "markdown",
      "metadata": {
        "id": "bDy3vxKRe2Gu"
      },
      "source": [
        "En esta sección obtenemos la suma de los datos faltantes para cada variable, esto para conocer cuáles son las variables que necesatimos corregir más adelante."
      ]
    },
    {
      "cell_type": "code",
      "execution_count": null,
      "metadata": {
        "id": "0_g4Rxy23hPQ",
        "colab": {
          "base_uri": "https://localhost:8080/"
        },
        "outputId": "0574b176-58fa-4936-8afd-4dbe5a2ec0f7"
      },
      "outputs": [
        {
          "output_type": "execute_result",
          "data": {
            "text/plain": [
              "PassengerId       0\n",
              "HomePlanet      201\n",
              "CryoSleep       217\n",
              "Cabin           199\n",
              "Destination     182\n",
              "Age             179\n",
              "VIP             203\n",
              "RoomService     181\n",
              "FoodCourt       183\n",
              "ShoppingMall    208\n",
              "Spa             183\n",
              "VRDeck          188\n",
              "Name            200\n",
              "Transported       0\n",
              "dtype: int64"
            ]
          },
          "metadata": {},
          "execution_count": 8
        }
      ],
      "source": [
        "# Visualización de datos faltantes en cada variable del conjunto de entrenamiento\n",
        "train_set.isnull().sum()"
      ]
    },
    {
      "cell_type": "code",
      "execution_count": null,
      "metadata": {
        "id": "pi3mBtXM3hPR",
        "colab": {
          "base_uri": "https://localhost:8080/"
        },
        "outputId": "d0dcadeb-57bd-43b2-a9f9-143c292c4583"
      },
      "outputs": [
        {
          "output_type": "execute_result",
          "data": {
            "text/plain": [
              "PassengerId     0.000000\n",
              "HomePlanet      2.312205\n",
              "CryoSleep       2.496261\n",
              "Cabin           2.289198\n",
              "Destination     2.093639\n",
              "Age             2.059128\n",
              "VIP             2.335212\n",
              "RoomService     2.082135\n",
              "FoodCourt       2.105142\n",
              "ShoppingMall    2.392730\n",
              "Spa             2.105142\n",
              "VRDeck          2.162660\n",
              "Name            2.300702\n",
              "Transported     0.000000\n",
              "dtype: float64"
            ]
          },
          "metadata": {},
          "execution_count": 9
        }
      ],
      "source": [
        "# Visualización del porcentaje de datos faltantes en cada variable del conjunto de entrenamiento\n",
        "train_set.isna().sum()/train_set.shape[0]*100"
      ]
    },
    {
      "cell_type": "code",
      "execution_count": null,
      "metadata": {
        "id": "kSAOtEiN3hPS",
        "colab": {
          "base_uri": "https://localhost:8080/"
        },
        "outputId": "0565d415-050b-482c-acea-608568762928"
      },
      "outputs": [
        {
          "output_type": "execute_result",
          "data": {
            "text/plain": [
              "PassengerId       0\n",
              "HomePlanet       87\n",
              "CryoSleep        93\n",
              "Cabin           100\n",
              "Destination      92\n",
              "Age              91\n",
              "VIP              93\n",
              "RoomService      82\n",
              "FoodCourt       106\n",
              "ShoppingMall     98\n",
              "Spa             101\n",
              "VRDeck           80\n",
              "Name             94\n",
              "dtype: int64"
            ]
          },
          "metadata": {},
          "execution_count": 10
        }
      ],
      "source": [
        "# Visualización de datos faltantes en cada variable del conjunto de prueba\n",
        "test_set.isnull().sum()"
      ]
    },
    {
      "cell_type": "code",
      "execution_count": null,
      "metadata": {
        "id": "H3mQwSIN3hPS",
        "colab": {
          "base_uri": "https://localhost:8080/"
        },
        "outputId": "1d40307b-3e05-4892-8d8f-d77570c74e64"
      },
      "outputs": [
        {
          "output_type": "execute_result",
          "data": {
            "text/plain": [
              "PassengerId     0.000000\n",
              "HomePlanet      2.034136\n",
              "CryoSleep       2.174421\n",
              "Cabin           2.338087\n",
              "Destination     2.151040\n",
              "Age             2.127660\n",
              "VIP             2.174421\n",
              "RoomService     1.917232\n",
              "FoodCourt       2.478373\n",
              "ShoppingMall    2.291326\n",
              "Spa             2.361468\n",
              "VRDeck          1.870470\n",
              "Name            2.197802\n",
              "dtype: float64"
            ]
          },
          "metadata": {},
          "execution_count": 11
        }
      ],
      "source": [
        "# Visualización del porcentaje de datos faltantes en cada variable del conjunto de prueba\n",
        "test_set.isna().sum()/test_set.shape[0]*100"
      ]
    },
    {
      "cell_type": "markdown",
      "metadata": {
        "id": "6QamqM-JfY_U"
      },
      "source": [
        "Continuando con la exploración de datos, revisamos que no existan datos duplicados y conocemos la cantidad de datos que existen para cada categoría."
      ]
    },
    {
      "cell_type": "code",
      "execution_count": null,
      "metadata": {
        "id": "eWvor2XF3hPT",
        "colab": {
          "base_uri": "https://localhost:8080/"
        },
        "outputId": "09d6c4fd-9534-4218-cb5c-8daa2729e9ab"
      },
      "outputs": [
        {
          "output_type": "execute_result",
          "data": {
            "text/plain": [
              "0"
            ]
          },
          "metadata": {},
          "execution_count": 12
        }
      ],
      "source": [
        "# Comprobación de la no existencia de información duplicada de pasajeros en el conjunto entrenamiento\n",
        "train_set['PassengerId'].duplicated().sum()"
      ]
    },
    {
      "cell_type": "code",
      "execution_count": null,
      "metadata": {
        "id": "q9xtpxIYJDQX",
        "colab": {
          "base_uri": "https://localhost:8080/"
        },
        "outputId": "91d73f0c-3285-4c95-eb47-1a01db6fdd2e"
      },
      "outputs": [
        {
          "output_type": "execute_result",
          "data": {
            "text/plain": [
              "0"
            ]
          },
          "metadata": {},
          "execution_count": 13
        }
      ],
      "source": [
        "# Comprobación de la no existencia de información duplicada de pasajeros en el conjunto prueba\n",
        "test_set['PassengerId'].duplicated().sum()"
      ]
    },
    {
      "cell_type": "code",
      "execution_count": null,
      "metadata": {
        "id": "RzNnDE1p3hPT",
        "colab": {
          "base_uri": "https://localhost:8080/"
        },
        "outputId": "b8ebaaaa-ea84-4797-b92e-de9953de78cd"
      },
      "outputs": [
        {
          "output_type": "execute_result",
          "data": {
            "text/plain": [
              "6560"
            ]
          },
          "metadata": {},
          "execution_count": 14
        }
      ],
      "source": [
        "# Cantidad de cabinas en el Titanic en el conjunto entrenamiento\n",
        "train_set['Cabin'].nunique()"
      ]
    },
    {
      "cell_type": "code",
      "execution_count": null,
      "metadata": {
        "id": "pd209Yc6JIQu",
        "colab": {
          "base_uri": "https://localhost:8080/"
        },
        "outputId": "3b0f5a58-1963-4652-9306-aaaec9fee2d1"
      },
      "outputs": [
        {
          "output_type": "execute_result",
          "data": {
            "text/plain": [
              "3265"
            ]
          },
          "metadata": {},
          "execution_count": 15
        }
      ],
      "source": [
        "# Cantidad de cabinas en el Titanic en el conjunto prueba\n",
        "test_set['Cabin'].nunique()"
      ]
    },
    {
      "cell_type": "code",
      "execution_count": null,
      "metadata": {
        "id": "NmagR9dT3hPT",
        "colab": {
          "base_uri": "https://localhost:8080/"
        },
        "outputId": "6fc8cefa-6f84-49d1-ff8e-0b36a63bf6b5"
      },
      "outputs": [
        {
          "output_type": "execute_result",
          "data": {
            "text/plain": [
              "Earth     4602\n",
              "Europa    2131\n",
              "Mars      1759\n",
              "Name: HomePlanet, dtype: int64"
            ]
          },
          "metadata": {},
          "execution_count": 16
        }
      ],
      "source": [
        "# Diferentes clases para la variable 'HomePlanet' en el  conjunto entrenamiento\n",
        "train_set['HomePlanet'].value_counts()"
      ]
    },
    {
      "cell_type": "code",
      "execution_count": null,
      "metadata": {
        "id": "pU2eY3unJLw_",
        "colab": {
          "base_uri": "https://localhost:8080/"
        },
        "outputId": "4cdd97e7-8e91-4c13-af0e-db390a63e4d8"
      },
      "outputs": [
        {
          "output_type": "execute_result",
          "data": {
            "text/plain": [
              "Earth     2263\n",
              "Europa    1002\n",
              "Mars       925\n",
              "Name: HomePlanet, dtype: int64"
            ]
          },
          "metadata": {},
          "execution_count": 17
        }
      ],
      "source": [
        "# Diferentes clases para la variable 'HomePlanet' en el  conjunto prueba\n",
        "test_set['HomePlanet'].value_counts()"
      ]
    },
    {
      "cell_type": "code",
      "execution_count": null,
      "metadata": {
        "id": "Dzly__YS3hPU",
        "colab": {
          "base_uri": "https://localhost:8080/"
        },
        "outputId": "4d00d89f-0771-49df-cb15-68382b9dd15e"
      },
      "outputs": [
        {
          "output_type": "execute_result",
          "data": {
            "text/plain": [
              "TRAPPIST-1e      5915\n",
              "55 Cancri e      1800\n",
              "PSO J318.5-22     796\n",
              "Name: Destination, dtype: int64"
            ]
          },
          "metadata": {},
          "execution_count": 18
        }
      ],
      "source": [
        "# Diferentes clases para la variable 'Destination' en el conjunto entrenamiento\n",
        "train_set['Destination'].value_counts()"
      ]
    },
    {
      "cell_type": "code",
      "execution_count": null,
      "metadata": {
        "id": "1xMcyROdJQnj",
        "colab": {
          "base_uri": "https://localhost:8080/"
        },
        "outputId": "eeb7b3eb-a78e-40d5-920c-403b32b495cb"
      },
      "outputs": [
        {
          "output_type": "execute_result",
          "data": {
            "text/plain": [
              "TRAPPIST-1e      2956\n",
              "55 Cancri e       841\n",
              "PSO J318.5-22     388\n",
              "Name: Destination, dtype: int64"
            ]
          },
          "metadata": {},
          "execution_count": 19
        }
      ],
      "source": [
        "# Diferentes clases para la variable 'Destination' en el conjunto prueba\n",
        "test_set['Destination'].value_counts()"
      ]
    },
    {
      "cell_type": "markdown",
      "metadata": {
        "id": "YBOp9ob3fqYF"
      },
      "source": [
        "Para nuestra variable 'Age' realizamos un exploración más profunda debido a que es una de las variables que más información nos va a aportar para poder encontrar el valor de nuestra variable predictiva."
      ]
    },
    {
      "cell_type": "code",
      "execution_count": null,
      "metadata": {
        "id": "Gb50MtH_3hPV",
        "colab": {
          "base_uri": "https://localhost:8080/"
        },
        "outputId": "1f1dd137-970a-44df-88b2-61fc9a31ea63"
      },
      "outputs": [
        {
          "output_type": "execute_result",
          "data": {
            "text/plain": [
              "24.0    324\n",
              "18.0    320\n",
              "21.0    311\n",
              "19.0    293\n",
              "23.0    292\n",
              "       ... \n",
              "72.0      4\n",
              "78.0      3\n",
              "79.0      3\n",
              "76.0      2\n",
              "77.0      2\n",
              "Name: Age, Length: 80, dtype: int64"
            ]
          },
          "metadata": {},
          "execution_count": 20
        }
      ],
      "source": [
        "# Rango de edades para la edad de los pasajeros en el conjunto entrenamiento\n",
        "train_set['Age'].value_counts()"
      ]
    },
    {
      "cell_type": "code",
      "execution_count": null,
      "metadata": {
        "id": "faoVnbumJUXy",
        "colab": {
          "base_uri": "https://localhost:8080/"
        },
        "outputId": "fd0af5d3-7a89-4445-bb24-4eb81757ddf5"
      },
      "outputs": [
        {
          "output_type": "execute_result",
          "data": {
            "text/plain": [
              "18.0    176\n",
              "22.0    163\n",
              "19.0    162\n",
              "20.0    160\n",
              "24.0    158\n",
              "       ... \n",
              "70.0      2\n",
              "79.0      2\n",
              "68.0      2\n",
              "78.0      1\n",
              "77.0      1\n",
              "Name: Age, Length: 79, dtype: int64"
            ]
          },
          "metadata": {},
          "execution_count": 21
        }
      ],
      "source": [
        "# Rango de edades para la edad de los pasajeros en el conjunto prueba\n",
        "test_set['Age'].value_counts()"
      ]
    },
    {
      "cell_type": "code",
      "execution_count": null,
      "metadata": {
        "id": "E1x2pTMZ3hPV",
        "colab": {
          "base_uri": "https://localhost:8080/"
        },
        "outputId": "856cb91d-72ea-46a9-c572-fefcf95bcc0b"
      },
      "outputs": [
        {
          "output_type": "execute_result",
          "data": {
            "text/plain": [
              "80"
            ]
          },
          "metadata": {},
          "execution_count": 22
        }
      ],
      "source": [
        "# Total de edades únicas entre los pasajeros en el conjunto entrenamiento\n",
        "train_set['Age'].nunique()"
      ]
    },
    {
      "cell_type": "code",
      "execution_count": null,
      "metadata": {
        "id": "wbzGpGGxJXmS",
        "colab": {
          "base_uri": "https://localhost:8080/"
        },
        "outputId": "375adba5-0c14-49a8-c3a7-5d8dac561ec8"
      },
      "outputs": [
        {
          "output_type": "execute_result",
          "data": {
            "text/plain": [
              "79"
            ]
          },
          "metadata": {},
          "execution_count": 23
        }
      ],
      "source": [
        "# Total de edades únicas entre los pasajeros en el conjunto prueba\n",
        "test_set['Age'].nunique()"
      ]
    },
    {
      "cell_type": "markdown",
      "metadata": {
        "id": "9seXerykhGEL"
      },
      "source": [
        "Obtenemos un histograma de nuestra variable 'Age'. Podemos observar que parece asimilarse a una distribución normal, sin embargo observamos que la gráfica está sesgada hacia el lado izquierdo."
      ]
    },
    {
      "cell_type": "code",
      "execution_count": null,
      "metadata": {
        "id": "fz0HiKOq3hPV",
        "colab": {
          "base_uri": "https://localhost:8080/",
          "height": 282
        },
        "outputId": "235c66d5-1332-4ffb-aa1a-e4e7a5abb588"
      },
      "outputs": [
        {
          "output_type": "execute_result",
          "data": {
            "text/plain": [
              "<matplotlib.axes._subplots.AxesSubplot at 0x7fd3b9259290>"
            ]
          },
          "metadata": {},
          "execution_count": 24
        },
        {
          "output_type": "display_data",
          "data": {
            "text/plain": [
              "<Figure size 432x288 with 1 Axes>"
            ],
            "image/png": "[encoded data removed]"
          },
          "metadata": {
            "needs_background": "light"
          }
        }
      ],
      "source": [
        "# Histograma de edades en el conjunto entrenamiento\n",
        "train_set['Age'].hist()"
      ]
    },
    {
      "cell_type": "code",
      "execution_count": null,
      "metadata": {
        "id": "LmvFjqJdJe-e",
        "colab": {
          "base_uri": "https://localhost:8080/",
          "height": 282
        },
        "outputId": "3350b40b-17b9-48ac-a4c6-870569f38b68"
      },
      "outputs": [
        {
          "output_type": "execute_result",
          "data": {
            "text/plain": [
              "<matplotlib.axes._subplots.AxesSubplot at 0x7fd3b90fe6d0>"
            ]
          },
          "metadata": {},
          "execution_count": 25
        },
        {
          "output_type": "display_data",
          "data": {
            "text/plain": [
              "<Figure size 432x288 with 1 Axes>"
            ],
            "image/png": "[encoded data removed]"
          },
          "metadata": {
            "needs_background": "light"
          }
        }
      ],
      "source": [
        "# Histograma de edades en el conjunto prueba\n",
        "test_set['Age'].hist()"
      ]
    },
    {
      "cell_type": "markdown",
      "metadata": {
        "id": "JfQDl9cbKrOh"
      },
      "source": [
        "### Variables Numéricas"
      ]
    },
    {
      "cell_type": "markdown",
      "metadata": {
        "id": "hSqCDRUIKycr"
      },
      "source": [
        "   \n",
        "*   Age\n",
        "*   RoomService\n",
        "*   FoodCourt\n",
        "*   Elemento de lista\n",
        "*   ShoppingMall\n",
        "*   Spa\n",
        "*   VRDeck\n",
        "\n",
        "\n",
        "\n"
      ]
    },
    {
      "cell_type": "markdown",
      "metadata": {
        "id": "-DzXyT-BKuVv"
      },
      "source": [
        "### Variables Categóricas"
      ]
    },
    {
      "cell_type": "markdown",
      "metadata": {
        "id": "UJYHsj8PLlEX"
      },
      "source": [
        "\n",
        "\n",
        "*   PassengerId\n",
        "*   HomePlanet\n",
        "*   CryoSleep\n",
        "*   Cabin\n",
        "*   Destination\n",
        "*   VIP\n",
        "*   Name\n",
        "*   Transported *(target)*\n",
        "\n",
        "\n",
        "\n",
        "\n",
        "\n",
        "\n",
        "\n",
        "\n",
        "\n"
      ]
    },
    {
      "cell_type": "markdown",
      "metadata": {
        "id": "QXCVynhC3hPX"
      },
      "source": [
        "## Tratamiento de los datos faltantes"
      ]
    },
    {
      "cell_type": "markdown",
      "metadata": {
        "id": "8H2Ohyj6WnIc"
      },
      "source": [
        "Primero dividimos la variable 'Cabin' en tres diferentes clases en ambos conjuntos de datos, esto con el objetivo de obtener información más precisa y encontrar diferentes relaciones con las otras variables."
      ]
    },
    {
      "cell_type": "markdown",
      "metadata": {
        "id": "568Amz1hMqWb"
      },
      "source": [
        "### Conjunto de entrenamiento"
      ]
    },
    {
      "cell_type": "code",
      "execution_count": null,
      "metadata": {
        "id": "2gKzdesCMh4A",
        "colab": {
          "base_uri": "https://localhost:8080/"
        },
        "outputId": "643d5149-0365-47fe-982c-2a4e4dfc1cc5"
      },
      "outputs": [
        {
          "output_type": "execute_result",
          "data": {
            "text/plain": [
              "count        8494\n",
              "unique       6560\n",
              "top       G/734/S\n",
              "freq            8\n",
              "Name: Cabin, dtype: object"
            ]
          },
          "metadata": {},
          "execution_count": 26
        }
      ],
      "source": [
        "# Estadística descriptiva de la variable 'Cabin' en el conjunto de entrenamiento\n",
        "train_set.Cabin.describe()"
      ]
    },
    {
      "cell_type": "code",
      "execution_count": null,
      "metadata": {
        "id": "MSAsmLRN3hPX",
        "colab": {
          "base_uri": "https://localhost:8080/"
        },
        "outputId": "b1d12a1d-ad30-4487-cca2-c30390a747ca"
      },
      "outputs": [
        {
          "output_type": "execute_result",
          "data": {
            "text/plain": [
              "0"
            ]
          },
          "metadata": {},
          "execution_count": 27
        }
      ],
      "source": [
        "# Reemplazo de valores faltantes por la cabina con mayor frecuencia en el conjunto entrenamiento\n",
        "train_set.Cabin.fillna('G/734/S', inplace=True)\n",
        "train_set.Cabin.isnull().sum()"
      ]
    },
    {
      "cell_type": "code",
      "execution_count": null,
      "metadata": {
        "id": "NxOI1_483hPY"
      },
      "outputs": [],
      "source": [
        "# División de la variable 'Cabin' en tres variables hijas para el conjunto de entrenamiento\n",
        "cabin_deck = []\n",
        "cabin_num = []\n",
        "cabin_side = []\n",
        "\n",
        "\n",
        "for i in train_set.Cabin:\n",
        "    cabin = re.split('/', i)\n",
        "    cabin_deck.append(cabin[0])\n",
        "    cabin_num.append(cabin[1])\n",
        "    cabin_side.append(cabin[2])\n",
        "\n",
        "train_set['Cabin_deck'] = cabin_deck\n",
        "train_set['Cabin_num'] = cabin_num\n",
        "train_set['Cabin_side'] = cabin_side"
      ]
    },
    {
      "cell_type": "markdown",
      "metadata": {
        "id": "wfo89jEcMkVG"
      },
      "source": [
        "### Conjunto de prueba"
      ]
    },
    {
      "cell_type": "code",
      "execution_count": null,
      "metadata": {
        "id": "uNA5R9CaM7g6",
        "colab": {
          "base_uri": "https://localhost:8080/"
        },
        "outputId": "1536e448-ccc1-42d3-fc2d-5edd062a5547"
      },
      "outputs": [
        {
          "output_type": "execute_result",
          "data": {
            "text/plain": [
              "count        4177\n",
              "unique       3265\n",
              "top       G/160/P\n",
              "freq            8\n",
              "Name: Cabin, dtype: object"
            ]
          },
          "metadata": {},
          "execution_count": 29
        }
      ],
      "source": [
        "# Estadística descriptiva de la variable 'Cabin' en el conjunto de prueba\n",
        "test_set.Cabin.describe()"
      ]
    },
    {
      "cell_type": "code",
      "execution_count": null,
      "metadata": {
        "id": "8qIuFUjfM77o",
        "colab": {
          "base_uri": "https://localhost:8080/"
        },
        "outputId": "43b27989-df6c-4c01-fa10-2ade78ad7fd6"
      },
      "outputs": [
        {
          "output_type": "execute_result",
          "data": {
            "text/plain": [
              "0"
            ]
          },
          "metadata": {},
          "execution_count": 30
        }
      ],
      "source": [
        "# Reemplazo de valores faltantes por la cabina con mayor frecuencia en el conjunto prueba\n",
        "test_set.Cabin.fillna('G/160/P', inplace=True)\n",
        "test_set.Cabin.isnull().sum()"
      ]
    },
    {
      "cell_type": "code",
      "execution_count": null,
      "metadata": {
        "id": "cu0uOwQEO5bv"
      },
      "outputs": [],
      "source": [
        "# División de la variable 'Cabin' en tres variables hijas para el conjunto de prueba\n",
        "cabin_deck = []\n",
        "cabin_num = []\n",
        "cabin_side = []\n",
        "\n",
        "\n",
        "for i in test_set.Cabin:\n",
        "    cabin = re.split('/', i)\n",
        "    cabin_deck.append(cabin[0])\n",
        "    cabin_num.append(cabin[1])\n",
        "    cabin_side.append(cabin[2])\n",
        "\n",
        "test_set['Cabin_deck'] = cabin_deck\n",
        "test_set['Cabin_num'] = cabin_num\n",
        "test_set['Cabin_side'] = cabin_side"
      ]
    },
    {
      "cell_type": "markdown",
      "metadata": {
        "id": "V_9flulUaulA"
      },
      "source": [
        "Para cada variable categórica utilizamos la función \"describe()\" para encontrar el dato más repetido o moda, y de esta forma poder rellenar los datos faltantes con ayuda del método \"fillna()\"."
      ]
    },
    {
      "cell_type": "markdown",
      "metadata": {
        "id": "myeR5JHC3hPY"
      },
      "source": [
        "#### Var. HomePlanet"
      ]
    },
    {
      "cell_type": "code",
      "execution_count": null,
      "metadata": {
        "id": "u83m8HeI3hPZ",
        "colab": {
          "base_uri": "https://localhost:8080/"
        },
        "outputId": "3d283763-53d4-4df2-b8ca-721fd5c4f216"
      },
      "outputs": [
        {
          "output_type": "execute_result",
          "data": {
            "text/plain": [
              "count      8492\n",
              "unique        3\n",
              "top       Earth\n",
              "freq       4602\n",
              "Name: HomePlanet, dtype: object"
            ]
          },
          "metadata": {},
          "execution_count": 32
        }
      ],
      "source": [
        "train_set['HomePlanet'].describe()"
      ]
    },
    {
      "cell_type": "code",
      "execution_count": null,
      "metadata": {
        "id": "ibSLdoKv3hPZ"
      },
      "outputs": [],
      "source": [
        "train_set['HomePlanet'].fillna('Earth', inplace=True)"
      ]
    },
    {
      "cell_type": "code",
      "execution_count": null,
      "metadata": {
        "id": "pqj55tx0RFei",
        "colab": {
          "base_uri": "https://localhost:8080/"
        },
        "outputId": "4f604ad3-b369-4780-cb44-97643c4b058d"
      },
      "outputs": [
        {
          "output_type": "execute_result",
          "data": {
            "text/plain": [
              "count      4190\n",
              "unique        3\n",
              "top       Earth\n",
              "freq       2263\n",
              "Name: HomePlanet, dtype: object"
            ]
          },
          "metadata": {},
          "execution_count": 34
        }
      ],
      "source": [
        "test_set['HomePlanet'].describe()"
      ]
    },
    {
      "cell_type": "code",
      "execution_count": null,
      "metadata": {
        "id": "cAk9Dq3aRF7Z"
      },
      "outputs": [],
      "source": [
        "test_set['HomePlanet'].fillna('Earth', inplace=True)"
      ]
    },
    {
      "cell_type": "markdown",
      "metadata": {
        "id": "8om-oVDC3hPZ"
      },
      "source": [
        "#### Var. CryoSleep"
      ]
    },
    {
      "cell_type": "code",
      "execution_count": null,
      "metadata": {
        "id": "k04BzUT33hPc",
        "colab": {
          "base_uri": "https://localhost:8080/"
        },
        "outputId": "d6ea8eb9-3330-454d-b2bd-beaa810aa3fa"
      },
      "outputs": [
        {
          "output_type": "execute_result",
          "data": {
            "text/plain": [
              "count      8476\n",
              "unique        2\n",
              "top       False\n",
              "freq       5439\n",
              "Name: CryoSleep, dtype: object"
            ]
          },
          "metadata": {},
          "execution_count": 36
        }
      ],
      "source": [
        "train_set['CryoSleep'].describe()"
      ]
    },
    {
      "cell_type": "code",
      "execution_count": null,
      "metadata": {
        "id": "3KZyNrSw3hPd"
      },
      "outputs": [],
      "source": [
        "train_set['CryoSleep'].fillna(False, inplace=True)"
      ]
    },
    {
      "cell_type": "code",
      "execution_count": null,
      "metadata": {
        "id": "FmEyz3ufR6Bh",
        "colab": {
          "base_uri": "https://localhost:8080/"
        },
        "outputId": "cdb4962c-315f-4eaf-d6b7-a628f8b57984"
      },
      "outputs": [
        {
          "output_type": "execute_result",
          "data": {
            "text/plain": [
              "count      4184\n",
              "unique        2\n",
              "top       False\n",
              "freq       2640\n",
              "Name: CryoSleep, dtype: object"
            ]
          },
          "metadata": {},
          "execution_count": 38
        }
      ],
      "source": [
        "test_set['CryoSleep'].describe()"
      ]
    },
    {
      "cell_type": "code",
      "execution_count": null,
      "metadata": {
        "id": "FFOl-yoMR8Gl"
      },
      "outputs": [],
      "source": [
        "test_set['CryoSleep'].fillna(False, inplace=True)"
      ]
    },
    {
      "cell_type": "markdown",
      "metadata": {
        "id": "Dte9DUhF3hPd"
      },
      "source": [
        "#### Var. Destination"
      ]
    },
    {
      "cell_type": "code",
      "execution_count": null,
      "metadata": {
        "id": "tZSrkwIQ3hPd",
        "colab": {
          "base_uri": "https://localhost:8080/"
        },
        "outputId": "4733c6f2-b4b7-488b-f434-9bb4706aa754"
      },
      "outputs": [
        {
          "output_type": "execute_result",
          "data": {
            "text/plain": [
              "count            8511\n",
              "unique              3\n",
              "top       TRAPPIST-1e\n",
              "freq             5915\n",
              "Name: Destination, dtype: object"
            ]
          },
          "metadata": {},
          "execution_count": 40
        }
      ],
      "source": [
        "train_set['Destination'].describe()"
      ]
    },
    {
      "cell_type": "code",
      "execution_count": null,
      "metadata": {
        "id": "nFffBikT3hPe"
      },
      "outputs": [],
      "source": [
        "train_set['Destination'].fillna('TRAPPIST-1e', inplace=True)"
      ]
    },
    {
      "cell_type": "code",
      "execution_count": null,
      "metadata": {
        "id": "36p0-Mi2SC_c",
        "colab": {
          "base_uri": "https://localhost:8080/"
        },
        "outputId": "c9e8f3a5-66a4-4d4c-afcf-3b342962f796"
      },
      "outputs": [
        {
          "output_type": "execute_result",
          "data": {
            "text/plain": [
              "count            4185\n",
              "unique              3\n",
              "top       TRAPPIST-1e\n",
              "freq             2956\n",
              "Name: Destination, dtype: object"
            ]
          },
          "metadata": {},
          "execution_count": 42
        }
      ],
      "source": [
        "test_set['Destination'].describe()"
      ]
    },
    {
      "cell_type": "code",
      "execution_count": null,
      "metadata": {
        "id": "pJR7_PAjSDa7"
      },
      "outputs": [],
      "source": [
        "test_set['Destination'].fillna('TRAPPIST-1e', inplace=True)"
      ]
    },
    {
      "cell_type": "markdown",
      "metadata": {
        "id": "TIxaOdwz3hPe"
      },
      "source": [
        "#### Var. Age"
      ]
    },
    {
      "cell_type": "code",
      "execution_count": null,
      "metadata": {
        "id": "_1d99odq3hPe",
        "colab": {
          "base_uri": "https://localhost:8080/"
        },
        "outputId": "79b42ac0-d821-4617-9cb7-feead3a5618a"
      },
      "outputs": [
        {
          "output_type": "execute_result",
          "data": {
            "text/plain": [
              "count    8514.000000\n",
              "mean       28.827930\n",
              "std        14.489021\n",
              "min         0.000000\n",
              "25%        19.000000\n",
              "50%        27.000000\n",
              "75%        38.000000\n",
              "max        79.000000\n",
              "Name: Age, dtype: float64"
            ]
          },
          "metadata": {},
          "execution_count": 44
        }
      ],
      "source": [
        "train_set['Age'].describe()"
      ]
    },
    {
      "cell_type": "code",
      "execution_count": null,
      "metadata": {
        "id": "dMPludMW3hPe",
        "colab": {
          "base_uri": "https://localhost:8080/"
        },
        "outputId": "20edfb14-d3ea-4541-be6e-50f946da21b8"
      },
      "outputs": [
        {
          "output_type": "execute_result",
          "data": {
            "text/plain": [
              "27.0"
            ]
          },
          "metadata": {},
          "execution_count": 45
        }
      ],
      "source": [
        "train_set['Age'].median()"
      ]
    },
    {
      "cell_type": "code",
      "execution_count": null,
      "metadata": {
        "id": "hY9PGOgU3hPf"
      },
      "outputs": [],
      "source": [
        "train_set['Age'].fillna(27.0, inplace=True)"
      ]
    },
    {
      "cell_type": "code",
      "execution_count": null,
      "metadata": {
        "id": "lVzQ0GsWP7ud",
        "colab": {
          "base_uri": "https://localhost:8080/"
        },
        "outputId": "a50d9376-19b2-4011-d8ac-4126a489d163"
      },
      "outputs": [
        {
          "output_type": "execute_result",
          "data": {
            "text/plain": [
              "0"
            ]
          },
          "metadata": {},
          "execution_count": 47
        }
      ],
      "source": [
        "train_set['Age'].isnull().sum()"
      ]
    },
    {
      "cell_type": "code",
      "execution_count": null,
      "metadata": {
        "id": "8qcul4OySMPd",
        "colab": {
          "base_uri": "https://localhost:8080/"
        },
        "outputId": "55eabcc1-8f67-481d-86ef-b2e33d513be6"
      },
      "outputs": [
        {
          "output_type": "execute_result",
          "data": {
            "text/plain": [
              "count    4186.000000\n",
              "mean       28.658146\n",
              "std        14.179072\n",
              "min         0.000000\n",
              "25%        19.000000\n",
              "50%        26.000000\n",
              "75%        37.000000\n",
              "max        79.000000\n",
              "Name: Age, dtype: float64"
            ]
          },
          "metadata": {},
          "execution_count": 48
        }
      ],
      "source": [
        "test_set['Age'].describe()"
      ]
    },
    {
      "cell_type": "code",
      "execution_count": null,
      "metadata": {
        "id": "9RG7acXvSMDo",
        "colab": {
          "base_uri": "https://localhost:8080/"
        },
        "outputId": "80578a15-979e-4ef9-8ee9-eb678fc7f673"
      },
      "outputs": [
        {
          "output_type": "execute_result",
          "data": {
            "text/plain": [
              "26.0"
            ]
          },
          "metadata": {},
          "execution_count": 49
        }
      ],
      "source": [
        "test_set['Age'].median()"
      ]
    },
    {
      "cell_type": "code",
      "execution_count": null,
      "metadata": {
        "id": "eSTi-WaKSL5S"
      },
      "outputs": [],
      "source": [
        "test_set['Age'].fillna(26.0, inplace=True)"
      ]
    },
    {
      "cell_type": "code",
      "execution_count": null,
      "metadata": {
        "id": "XRGT9q80QBky",
        "colab": {
          "base_uri": "https://localhost:8080/"
        },
        "outputId": "d319675b-4ae3-4f74-d28c-3c90d97f7c83"
      },
      "outputs": [
        {
          "output_type": "execute_result",
          "data": {
            "text/plain": [
              "0"
            ]
          },
          "metadata": {},
          "execution_count": 51
        }
      ],
      "source": [
        "test_set['Age'].isnull().sum()"
      ]
    },
    {
      "cell_type": "markdown",
      "metadata": {
        "id": "KU3fGjkC3hPf"
      },
      "source": [
        "#### Var. VIP"
      ]
    },
    {
      "cell_type": "code",
      "execution_count": null,
      "metadata": {
        "id": "9sSHNr8U3hPf",
        "colab": {
          "base_uri": "https://localhost:8080/"
        },
        "outputId": "335b4683-c510-4d17-d0a3-bae36ac46ffa"
      },
      "outputs": [
        {
          "output_type": "execute_result",
          "data": {
            "text/plain": [
              "count      8490\n",
              "unique        2\n",
              "top       False\n",
              "freq       8291\n",
              "Name: VIP, dtype: object"
            ]
          },
          "metadata": {},
          "execution_count": 52
        }
      ],
      "source": [
        "train_set['VIP'].describe()"
      ]
    },
    {
      "cell_type": "code",
      "execution_count": null,
      "metadata": {
        "id": "_ik2ldQg3hPf"
      },
      "outputs": [],
      "source": [
        "train_set['VIP'].fillna(False, inplace=True)"
      ]
    },
    {
      "cell_type": "code",
      "execution_count": null,
      "metadata": {
        "id": "wdjDDbv3SfjP",
        "colab": {
          "base_uri": "https://localhost:8080/"
        },
        "outputId": "239533b9-3d13-4dd8-b06a-eafc742b6512"
      },
      "outputs": [
        {
          "output_type": "execute_result",
          "data": {
            "text/plain": [
              "count      4184\n",
              "unique        2\n",
              "top       False\n",
              "freq       4110\n",
              "Name: VIP, dtype: object"
            ]
          },
          "metadata": {},
          "execution_count": 54
        }
      ],
      "source": [
        "test_set['VIP'].describe()"
      ]
    },
    {
      "cell_type": "code",
      "execution_count": null,
      "metadata": {
        "id": "GcX2r9WySf8F"
      },
      "outputs": [],
      "source": [
        "test_set['VIP'].fillna(False, inplace=True)"
      ]
    },
    {
      "cell_type": "markdown",
      "metadata": {
        "id": "55p1WSHv3hPf"
      },
      "source": [
        "#### Var. RoomService"
      ]
    },
    {
      "cell_type": "code",
      "execution_count": null,
      "metadata": {
        "id": "xfv-Zz7Z3hPg",
        "colab": {
          "base_uri": "https://localhost:8080/"
        },
        "outputId": "964f427c-1e14-44ef-d267-33b9fc41b70e"
      },
      "outputs": [
        {
          "output_type": "execute_result",
          "data": {
            "text/plain": [
              "count     8512.000000\n",
              "mean       224.687617\n",
              "std        666.717663\n",
              "min          0.000000\n",
              "25%          0.000000\n",
              "50%          0.000000\n",
              "75%         47.000000\n",
              "max      14327.000000\n",
              "Name: RoomService, dtype: float64"
            ]
          },
          "metadata": {},
          "execution_count": 56
        }
      ],
      "source": [
        "train_set['RoomService'].describe()"
      ]
    },
    {
      "cell_type": "code",
      "execution_count": null,
      "metadata": {
        "id": "OeSMC2nI3hPg",
        "colab": {
          "base_uri": "https://localhost:8080/"
        },
        "outputId": "7105a421-7b51-4bce-a810-87b92d00a28b"
      },
      "outputs": [
        {
          "output_type": "execute_result",
          "data": {
            "text/plain": [
              "0.0"
            ]
          },
          "metadata": {},
          "execution_count": 57
        }
      ],
      "source": [
        "train_set['RoomService'].median()"
      ]
    },
    {
      "cell_type": "code",
      "execution_count": null,
      "metadata": {
        "id": "ZE7DXXzI3hPg"
      },
      "outputs": [],
      "source": [
        "train_set['RoomService'].fillna(0.0, inplace=True)"
      ]
    },
    {
      "cell_type": "code",
      "execution_count": null,
      "metadata": {
        "id": "znwpUlE1Sto3",
        "colab": {
          "base_uri": "https://localhost:8080/"
        },
        "outputId": "b5f5b6e1-6672-4125-8a9e-1cef36a0a378"
      },
      "outputs": [
        {
          "output_type": "execute_result",
          "data": {
            "text/plain": [
              "count     4195.000000\n",
              "mean       219.266269\n",
              "std        607.011289\n",
              "min          0.000000\n",
              "25%          0.000000\n",
              "50%          0.000000\n",
              "75%         53.000000\n",
              "max      11567.000000\n",
              "Name: RoomService, dtype: float64"
            ]
          },
          "metadata": {},
          "execution_count": 59
        }
      ],
      "source": [
        "test_set['RoomService'].describe()"
      ]
    },
    {
      "cell_type": "code",
      "execution_count": null,
      "metadata": {
        "id": "jglSpWamSt7t",
        "colab": {
          "base_uri": "https://localhost:8080/"
        },
        "outputId": "80a5b449-97a3-4032-fef6-93be553cab5a"
      },
      "outputs": [
        {
          "output_type": "execute_result",
          "data": {
            "text/plain": [
              "0.0"
            ]
          },
          "metadata": {},
          "execution_count": 60
        }
      ],
      "source": [
        "test_set['RoomService'].median()"
      ]
    },
    {
      "cell_type": "code",
      "execution_count": null,
      "metadata": {
        "id": "LmeV6KyESumj"
      },
      "outputs": [],
      "source": [
        "test_set['RoomService'].fillna(0.0, inplace=True)"
      ]
    },
    {
      "cell_type": "markdown",
      "metadata": {
        "id": "gW_K7FHw3hPg"
      },
      "source": [
        "#### Var. FoodCourt"
      ]
    },
    {
      "cell_type": "code",
      "execution_count": null,
      "metadata": {
        "id": "LYm1Z7Rm3hPg",
        "colab": {
          "base_uri": "https://localhost:8080/"
        },
        "outputId": "0ec4b8e6-d470-4601-9611-7c9f074c3132"
      },
      "outputs": [
        {
          "output_type": "execute_result",
          "data": {
            "text/plain": [
              "count     8510.000000\n",
              "mean       458.077203\n",
              "std       1611.489240\n",
              "min          0.000000\n",
              "25%          0.000000\n",
              "50%          0.000000\n",
              "75%         76.000000\n",
              "max      29813.000000\n",
              "Name: FoodCourt, dtype: float64"
            ]
          },
          "metadata": {},
          "execution_count": 62
        }
      ],
      "source": [
        "train_set['FoodCourt'].describe()"
      ]
    },
    {
      "cell_type": "code",
      "execution_count": null,
      "metadata": {
        "id": "mBHvpL_S3hPh",
        "colab": {
          "base_uri": "https://localhost:8080/"
        },
        "outputId": "f76331a4-de21-499e-d95a-b3158aee1242"
      },
      "outputs": [
        {
          "output_type": "execute_result",
          "data": {
            "text/plain": [
              "0.0"
            ]
          },
          "metadata": {},
          "execution_count": 63
        }
      ],
      "source": [
        "train_set['FoodCourt'].median()"
      ]
    },
    {
      "cell_type": "code",
      "execution_count": null,
      "metadata": {
        "id": "sE7IMS6v3hPh"
      },
      "outputs": [],
      "source": [
        "train_set['FoodCourt'].fillna(0.0, inplace=True)"
      ]
    },
    {
      "cell_type": "code",
      "execution_count": null,
      "metadata": {
        "id": "w0eJTBSoTDM2",
        "colab": {
          "base_uri": "https://localhost:8080/"
        },
        "outputId": "33ffb890-fbb3-4499-adcb-486ba3ac4964"
      },
      "outputs": [
        {
          "output_type": "execute_result",
          "data": {
            "text/plain": [
              "count     4171.000000\n",
              "mean       439.484296\n",
              "std       1527.663045\n",
              "min          0.000000\n",
              "25%          0.000000\n",
              "50%          0.000000\n",
              "75%         78.000000\n",
              "max      25273.000000\n",
              "Name: FoodCourt, dtype: float64"
            ]
          },
          "metadata": {},
          "execution_count": 65
        }
      ],
      "source": [
        "test_set['FoodCourt'].describe()"
      ]
    },
    {
      "cell_type": "code",
      "execution_count": null,
      "metadata": {
        "id": "xUjZ4FTKTD3B",
        "colab": {
          "base_uri": "https://localhost:8080/"
        },
        "outputId": "df0543e9-dde6-4dfb-fb54-ca8705369cfe"
      },
      "outputs": [
        {
          "output_type": "execute_result",
          "data": {
            "text/plain": [
              "0.0"
            ]
          },
          "metadata": {},
          "execution_count": 66
        }
      ],
      "source": [
        "test_set['FoodCourt'].median()"
      ]
    },
    {
      "cell_type": "code",
      "execution_count": null,
      "metadata": {
        "id": "SkM6sZQlTDhY"
      },
      "outputs": [],
      "source": [
        "test_set['FoodCourt'].fillna(0.0, inplace=True)"
      ]
    },
    {
      "cell_type": "markdown",
      "metadata": {
        "id": "W-S99ROY3hPh"
      },
      "source": [
        "#### Var. ShoppingMall"
      ]
    },
    {
      "cell_type": "code",
      "execution_count": null,
      "metadata": {
        "id": "wDrGtlux3hPh",
        "colab": {
          "base_uri": "https://localhost:8080/"
        },
        "outputId": "bd553707-4427-4181-d602-94c1f0d2dda0"
      },
      "outputs": [
        {
          "output_type": "execute_result",
          "data": {
            "text/plain": [
              "count     8485.000000\n",
              "mean       173.729169\n",
              "std        604.696458\n",
              "min          0.000000\n",
              "25%          0.000000\n",
              "50%          0.000000\n",
              "75%         27.000000\n",
              "max      23492.000000\n",
              "Name: ShoppingMall, dtype: float64"
            ]
          },
          "metadata": {},
          "execution_count": 68
        }
      ],
      "source": [
        "train_set['ShoppingMall'].describe()"
      ]
    },
    {
      "cell_type": "code",
      "execution_count": null,
      "metadata": {
        "id": "4UUAF9HP3hPi",
        "colab": {
          "base_uri": "https://localhost:8080/"
        },
        "outputId": "8377d103-6072-431c-e950-884ca798a36e"
      },
      "outputs": [
        {
          "output_type": "execute_result",
          "data": {
            "text/plain": [
              "0.0"
            ]
          },
          "metadata": {},
          "execution_count": 69
        }
      ],
      "source": [
        "train_set['ShoppingMall'].median()"
      ]
    },
    {
      "cell_type": "code",
      "execution_count": null,
      "metadata": {
        "id": "G8OynQD03hPi"
      },
      "outputs": [],
      "source": [
        "train_set['ShoppingMall'].fillna(0.0, inplace=True)"
      ]
    },
    {
      "cell_type": "code",
      "execution_count": null,
      "metadata": {
        "id": "K1-zzJ09TSUQ",
        "colab": {
          "base_uri": "https://localhost:8080/"
        },
        "outputId": "61073149-799c-4b4b-9943-20f552a18738"
      },
      "outputs": [
        {
          "output_type": "execute_result",
          "data": {
            "text/plain": [
              "count    4179.000000\n",
              "mean      177.295525\n",
              "std       560.821123\n",
              "min         0.000000\n",
              "25%         0.000000\n",
              "50%         0.000000\n",
              "75%        33.000000\n",
              "max      8292.000000\n",
              "Name: ShoppingMall, dtype: float64"
            ]
          },
          "metadata": {},
          "execution_count": 71
        }
      ],
      "source": [
        "test_set['ShoppingMall'].describe()"
      ]
    },
    {
      "cell_type": "code",
      "execution_count": null,
      "metadata": {
        "id": "C6E8HDyyTTN3",
        "colab": {
          "base_uri": "https://localhost:8080/"
        },
        "outputId": "44ebc57e-8ecc-4388-ee2d-4473c44fa44b"
      },
      "outputs": [
        {
          "output_type": "execute_result",
          "data": {
            "text/plain": [
              "0.0"
            ]
          },
          "metadata": {},
          "execution_count": 72
        }
      ],
      "source": [
        "test_set['ShoppingMall'].median()"
      ]
    },
    {
      "cell_type": "code",
      "execution_count": null,
      "metadata": {
        "id": "oO_36lVWTSwi"
      },
      "outputs": [],
      "source": [
        "test_set['ShoppingMall'].fillna(0.0, inplace=True)"
      ]
    },
    {
      "cell_type": "markdown",
      "metadata": {
        "id": "FgAssqHi3hPi"
      },
      "source": [
        "#### Var. Spa"
      ]
    },
    {
      "cell_type": "code",
      "execution_count": null,
      "metadata": {
        "id": "1q_zD8e53hPi",
        "colab": {
          "base_uri": "https://localhost:8080/"
        },
        "outputId": "960e51be-c770-40fb-d17b-f5b53573899f"
      },
      "outputs": [
        {
          "output_type": "execute_result",
          "data": {
            "text/plain": [
              "count     8510.000000\n",
              "mean       311.138778\n",
              "std       1136.705535\n",
              "min          0.000000\n",
              "25%          0.000000\n",
              "50%          0.000000\n",
              "75%         59.000000\n",
              "max      22408.000000\n",
              "Name: Spa, dtype: float64"
            ]
          },
          "metadata": {},
          "execution_count": 74
        }
      ],
      "source": [
        "train_set['Spa'].describe()"
      ]
    },
    {
      "cell_type": "code",
      "execution_count": null,
      "metadata": {
        "id": "6DK6foXH3hPi",
        "colab": {
          "base_uri": "https://localhost:8080/"
        },
        "outputId": "a148a2f1-6144-4527-f044-2e04d3bbd020"
      },
      "outputs": [
        {
          "output_type": "execute_result",
          "data": {
            "text/plain": [
              "0.0"
            ]
          },
          "metadata": {},
          "execution_count": 75
        }
      ],
      "source": [
        "train_set['Spa'].median()"
      ]
    },
    {
      "cell_type": "code",
      "execution_count": null,
      "metadata": {
        "id": "GrWUCXv53hPj"
      },
      "outputs": [],
      "source": [
        "train_set['Spa'].fillna(0.0, inplace=True)"
      ]
    },
    {
      "cell_type": "code",
      "execution_count": null,
      "metadata": {
        "id": "WwTXZafoTdjd",
        "colab": {
          "base_uri": "https://localhost:8080/"
        },
        "outputId": "c0ac721b-3a02-41eb-be04-26f03f745d44"
      },
      "outputs": [
        {
          "output_type": "execute_result",
          "data": {
            "text/plain": [
              "count     4176.000000\n",
              "mean       303.052443\n",
              "std       1117.186015\n",
              "min          0.000000\n",
              "25%          0.000000\n",
              "50%          0.000000\n",
              "75%         50.000000\n",
              "max      19844.000000\n",
              "Name: Spa, dtype: float64"
            ]
          },
          "metadata": {},
          "execution_count": 77
        }
      ],
      "source": [
        "test_set['Spa'].describe()"
      ]
    },
    {
      "cell_type": "code",
      "execution_count": null,
      "metadata": {
        "id": "ONUfPdjfTdU5",
        "colab": {
          "base_uri": "https://localhost:8080/"
        },
        "outputId": "0d654a6e-4726-4f8d-e38e-95ca05d650c9"
      },
      "outputs": [
        {
          "output_type": "execute_result",
          "data": {
            "text/plain": [
              "0.0"
            ]
          },
          "metadata": {},
          "execution_count": 78
        }
      ],
      "source": [
        "test_set['Spa'].median()"
      ]
    },
    {
      "cell_type": "code",
      "execution_count": null,
      "metadata": {
        "id": "36LMo5DeTdCN"
      },
      "outputs": [],
      "source": [
        "test_set['Spa'].fillna(0.0, inplace=True)"
      ]
    },
    {
      "cell_type": "markdown",
      "metadata": {
        "id": "srTNsmbZ3hPj"
      },
      "source": [
        "#### Var. VRDeck"
      ]
    },
    {
      "cell_type": "code",
      "execution_count": null,
      "metadata": {
        "id": "twT6ysZv3hPj",
        "colab": {
          "base_uri": "https://localhost:8080/"
        },
        "outputId": "e346f750-5675-4ae0-e807-60dad74c6341"
      },
      "outputs": [
        {
          "output_type": "execute_result",
          "data": {
            "text/plain": [
              "count     8505.000000\n",
              "mean       304.854791\n",
              "std       1145.717189\n",
              "min          0.000000\n",
              "25%          0.000000\n",
              "50%          0.000000\n",
              "75%         46.000000\n",
              "max      24133.000000\n",
              "Name: VRDeck, dtype: float64"
            ]
          },
          "metadata": {},
          "execution_count": 80
        }
      ],
      "source": [
        "train_set['VRDeck'].describe()"
      ]
    },
    {
      "cell_type": "code",
      "execution_count": null,
      "metadata": {
        "id": "7SXWVf9v3hPk",
        "colab": {
          "base_uri": "https://localhost:8080/"
        },
        "outputId": "59b283c3-68c8-4bb6-ba50-35df91553bdd"
      },
      "outputs": [
        {
          "output_type": "execute_result",
          "data": {
            "text/plain": [
              "0.0"
            ]
          },
          "metadata": {},
          "execution_count": 81
        }
      ],
      "source": [
        "train_set['VRDeck'].median()"
      ]
    },
    {
      "cell_type": "code",
      "execution_count": null,
      "metadata": {
        "id": "DfcVaZfR3hPk"
      },
      "outputs": [],
      "source": [
        "train_set['VRDeck'].fillna(0.0, inplace=True)"
      ]
    },
    {
      "cell_type": "code",
      "execution_count": null,
      "metadata": {
        "id": "cer656pBTnns",
        "colab": {
          "base_uri": "https://localhost:8080/"
        },
        "outputId": "a2fb1955-7219-453b-acc3-705c881a6419"
      },
      "outputs": [
        {
          "output_type": "execute_result",
          "data": {
            "text/plain": [
              "count     4197.000000\n",
              "mean       310.710031\n",
              "std       1246.994742\n",
              "min          0.000000\n",
              "25%          0.000000\n",
              "50%          0.000000\n",
              "75%         36.000000\n",
              "max      22272.000000\n",
              "Name: VRDeck, dtype: float64"
            ]
          },
          "metadata": {},
          "execution_count": 83
        }
      ],
      "source": [
        "test_set['VRDeck'].describe()"
      ]
    },
    {
      "cell_type": "code",
      "execution_count": null,
      "metadata": {
        "id": "OVwFradvTnfN",
        "colab": {
          "base_uri": "https://localhost:8080/"
        },
        "outputId": "73d7ce2b-6b38-4932-b93b-74d728e56506"
      },
      "outputs": [
        {
          "output_type": "execute_result",
          "data": {
            "text/plain": [
              "0.0"
            ]
          },
          "metadata": {},
          "execution_count": 84
        }
      ],
      "source": [
        "test_set['VRDeck'].median()"
      ]
    },
    {
      "cell_type": "code",
      "execution_count": null,
      "metadata": {
        "id": "ABgaAcBjTnBE"
      },
      "outputs": [],
      "source": [
        "test_set['VRDeck'].fillna(0.0, inplace=True)"
      ]
    },
    {
      "cell_type": "markdown",
      "metadata": {
        "id": "HroL4YrF3hPk"
      },
      "source": [
        "## Preprocesamiento de los datos"
      ]
    },
    {
      "cell_type": "code",
      "execution_count": null,
      "metadata": {
        "id": "lDptvG8tP8Xl",
        "colab": {
          "base_uri": "https://localhost:8080/"
        },
        "outputId": "2ea172d6-8acd-4ca7-9769-b7782896e09a"
      },
      "outputs": [
        {
          "output_type": "execute_result",
          "data": {
            "text/plain": [
              "PassengerId     0.0\n",
              "HomePlanet      0.0\n",
              "CryoSleep       0.0\n",
              "Cabin           0.0\n",
              "Destination     0.0\n",
              "Age             0.0\n",
              "VIP             0.0\n",
              "RoomService     0.0\n",
              "FoodCourt       0.0\n",
              "ShoppingMall    0.0\n",
              "Spa             0.0\n",
              "VRDeck          0.0\n",
              "Name            2.3\n",
              "Transported     0.0\n",
              "Cabin_deck      0.0\n",
              "Cabin_num       0.0\n",
              "Cabin_side      0.0\n",
              "dtype: float64"
            ]
          },
          "metadata": {},
          "execution_count": 86
        }
      ],
      "source": [
        "# Porcentaje de valores faltantes en cada variable del conjunto de datos de entrenamiento \n",
        "round(train_set.isna().sum()/train_set.shape[0]*100, 2)"
      ]
    },
    {
      "cell_type": "code",
      "execution_count": null,
      "metadata": {
        "id": "M0Bu1T_eP84X",
        "colab": {
          "base_uri": "https://localhost:8080/"
        },
        "outputId": "d09bed0b-cf12-47eb-b507-cf59403229d9"
      },
      "outputs": [
        {
          "output_type": "execute_result",
          "data": {
            "text/plain": [
              "PassengerId     0.0\n",
              "HomePlanet      0.0\n",
              "CryoSleep       0.0\n",
              "Cabin           0.0\n",
              "Destination     0.0\n",
              "Age             0.0\n",
              "VIP             0.0\n",
              "RoomService     0.0\n",
              "FoodCourt       0.0\n",
              "ShoppingMall    0.0\n",
              "Spa             0.0\n",
              "VRDeck          0.0\n",
              "Name            2.2\n",
              "Cabin_deck      0.0\n",
              "Cabin_num       0.0\n",
              "Cabin_side      0.0\n",
              "dtype: float64"
            ]
          },
          "metadata": {},
          "execution_count": 87
        }
      ],
      "source": [
        "# Porcentaje de valores faltantes en cada variable del conjunto de datos de prueba \n",
        "round(test_set.isna().sum()/test_set.shape[0]*100, 2)"
      ]
    },
    {
      "cell_type": "markdown",
      "metadata": {
        "id": "qtbanufmO0Mr"
      },
      "source": [
        "### Eliminación de variables no significativas"
      ]
    },
    {
      "cell_type": "markdown",
      "metadata": {
        "id": "_1FrWqTyabtZ"
      },
      "source": [
        "Se eliminan las siguientes variables en ambos conjuntos de datos,  ya que no aportan información relevante del pasajero para el propósito de este análisis."
      ]
    },
    {
      "cell_type": "code",
      "execution_count": null,
      "metadata": {
        "id": "BvuSo0fL3hPY",
        "colab": {
          "base_uri": "https://localhost:8080/"
        },
        "outputId": "1602dbcc-eaca-426b-c23a-4da3228c18d9"
      },
      "outputs": [
        {
          "output_type": "stream",
          "name": "stdout",
          "text": [
            "<class 'pandas.core.frame.DataFrame'>\n",
            "RangeIndex: 8693 entries, 0 to 8692\n",
            "Data columns (total 14 columns):\n",
            " #   Column        Non-Null Count  Dtype  \n",
            "---  ------        --------------  -----  \n",
            " 0   HomePlanet    8693 non-null   object \n",
            " 1   CryoSleep     8693 non-null   bool   \n",
            " 2   Destination   8693 non-null   object \n",
            " 3   Age           8693 non-null   float64\n",
            " 4   VIP           8693 non-null   bool   \n",
            " 5   RoomService   8693 non-null   float64\n",
            " 6   FoodCourt     8693 non-null   float64\n",
            " 7   ShoppingMall  8693 non-null   float64\n",
            " 8   Spa           8693 non-null   float64\n",
            " 9   VRDeck        8693 non-null   float64\n",
            " 10  Transported   8693 non-null   bool   \n",
            " 11  Cabin_deck    8693 non-null   object \n",
            " 12  Cabin_num     8693 non-null   object \n",
            " 13  Cabin_side    8693 non-null   object \n",
            "dtypes: bool(3), float64(6), object(5)\n",
            "memory usage: 772.6+ KB\n"
          ]
        }
      ],
      "source": [
        "# Eliminación de variables no significativas en el conjunto de entrenamiento\n",
        "train_set = train_set.drop(['PassengerId', 'Cabin', 'Name',], axis=1)\n",
        "train_set.info()\n"
      ]
    },
    {
      "cell_type": "code",
      "execution_count": null,
      "metadata": {
        "id": "g4_52vqEPVuA",
        "colab": {
          "base_uri": "https://localhost:8080/"
        },
        "outputId": "db052a1e-d0b5-4f0d-d3c6-c4eac5b5478a"
      },
      "outputs": [
        {
          "output_type": "stream",
          "name": "stdout",
          "text": [
            "<class 'pandas.core.frame.DataFrame'>\n",
            "RangeIndex: 4277 entries, 0 to 4276\n",
            "Data columns (total 13 columns):\n",
            " #   Column        Non-Null Count  Dtype  \n",
            "---  ------        --------------  -----  \n",
            " 0   HomePlanet    4277 non-null   object \n",
            " 1   CryoSleep     4277 non-null   bool   \n",
            " 2   Destination   4277 non-null   object \n",
            " 3   Age           4277 non-null   float64\n",
            " 4   VIP           4277 non-null   bool   \n",
            " 5   RoomService   4277 non-null   float64\n",
            " 6   FoodCourt     4277 non-null   float64\n",
            " 7   ShoppingMall  4277 non-null   float64\n",
            " 8   Spa           4277 non-null   float64\n",
            " 9   VRDeck        4277 non-null   float64\n",
            " 10  Cabin_deck    4277 non-null   object \n",
            " 11  Cabin_num     4277 non-null   object \n",
            " 12  Cabin_side    4277 non-null   object \n",
            "dtypes: bool(2), float64(6), object(5)\n",
            "memory usage: 376.0+ KB\n"
          ]
        }
      ],
      "source": [
        "# Eliminación de variables no significativas en el conjunto de prueba\n",
        "test_set = test_set.drop(['PassengerId', 'Cabin', 'Name'], axis=1)\n",
        "test_set.info()"
      ]
    },
    {
      "cell_type": "markdown",
      "metadata": {
        "id": "NazgMPSq3hPl"
      },
      "source": [
        "### Variables Dummy y LabelEncoder"
      ]
    },
    {
      "cell_type": "markdown",
      "metadata": {
        "id": "_DmW2_64eMD4"
      },
      "source": [
        "En este caso usamos el método \"get_dummies\" de pandas para las variables \"Cryosleep\" y \"VIP\", ya que son variables binarias. Con las variables restantes aplicamos *Label Encoding* (cuentan con más de 2 clases), ya que de aplicar *One Hot Encoding* es posible que el número de variables aumente. "
      ]
    },
    {
      "cell_type": "code",
      "execution_count": null,
      "metadata": {
        "id": "nr2pIxlu3hPl"
      },
      "outputs": [],
      "source": [
        "label_encoder = LabelEncoder()\n",
        "\n",
        "train_set['HomePlanet'] = label_encoder.fit_transform(train_set['HomePlanet']) \n",
        "test_set['HomePlanet'] = label_encoder.fit_transform(test_set['HomePlanet']) "
      ]
    },
    {
      "cell_type": "code",
      "execution_count": null,
      "metadata": {
        "id": "pwP30gHY3hPl"
      },
      "outputs": [],
      "source": [
        "train_set = pd.get_dummies(train_set, columns=['CryoSleep'], drop_first=True)\n",
        "test_set = pd.get_dummies(test_set, columns=['CryoSleep'], drop_first=True)"
      ]
    },
    {
      "cell_type": "code",
      "execution_count": null,
      "metadata": {
        "id": "BGCl-siO3hPl"
      },
      "outputs": [],
      "source": [
        "train_set['Destination'] = label_encoder.fit_transform(train_set['Destination']) \n",
        "test_set['Destination'] = label_encoder.fit_transform(test_set['Destination']) "
      ]
    },
    {
      "cell_type": "code",
      "execution_count": null,
      "metadata": {
        "id": "DpvWOCdr3hPl"
      },
      "outputs": [],
      "source": [
        "train_set = pd.get_dummies(train_set, columns=['VIP'], drop_first=True)\n",
        "test_set = pd.get_dummies(test_set, columns=['VIP'], drop_first=True)"
      ]
    },
    {
      "cell_type": "code",
      "execution_count": null,
      "metadata": {
        "id": "6AIcVzp23hPm"
      },
      "outputs": [],
      "source": [
        "train_set['Cabin_deck'] = label_encoder.fit_transform(train_set['Cabin_deck'])\n",
        "train_set['Cabin_num'] = label_encoder.fit_transform(train_set['Cabin_num'])\n",
        "train_set['Cabin_side'] = label_encoder.fit_transform(train_set['Cabin_side'])\n",
        "\n",
        "test_set['Cabin_deck'] = label_encoder.fit_transform(test_set['Cabin_deck'])\n",
        "test_set['Cabin_num'] = label_encoder.fit_transform(test_set['Cabin_num'])\n",
        "test_set['Cabin_side'] = label_encoder.fit_transform(test_set['Cabin_side'])"
      ]
    },
    {
      "cell_type": "markdown",
      "metadata": {
        "id": "cHiaagEzbScE"
      },
      "source": [
        "En el preprocesamiento de los datos obtenemos el tipo de dato de cada variable para posteriormente a las variables categóricas aplicarle un procesado de label encoding o one hot encoding, dependiendo si la variable tiene algún tipo de jerarquía."
      ]
    },
    {
      "cell_type": "markdown",
      "metadata": {
        "id": "od0FHlCU3hPm"
      },
      "source": [
        "### Variable Predictoria Dummy"
      ]
    },
    {
      "cell_type": "markdown",
      "metadata": {
        "id": "ELjO069LWfEi"
      },
      "source": [
        "Con fines de practicidad y compatibilidad con la mayoría de los modelos de aprendizaje, se implementa el método *Label Encoding* a la variable objetivo."
      ]
    },
    {
      "cell_type": "code",
      "execution_count": null,
      "metadata": {
        "id": "e1fNdXOo3hPm"
      },
      "outputs": [],
      "source": [
        "train_set['Transported'] = label_encoder.fit_transform(train_set['Transported']) "
      ]
    },
    {
      "cell_type": "markdown",
      "metadata": {
        "id": "Sg3R4vppXEa9"
      },
      "source": [
        "### Cambio índice  "
      ]
    },
    {
      "cell_type": "markdown",
      "metadata": {
        "id": "4BpxJyQNXrK_"
      },
      "source": [
        "Cambio en el índice de los conjuntos de datos de entrenamiento y prueba"
      ]
    },
    {
      "cell_type": "code",
      "execution_count": null,
      "metadata": {
        "id": "wf8k0YfwXIGd"
      },
      "outputs": [],
      "source": [
        "train_set = train_set[['HomePlanet', 'Destination', 'Age', 'RoomService', 'FoodCourt', 'ShoppingMall', \n",
        "                      'Spa', 'VRDeck', 'Cabin_deck', 'Cabin_num', 'Cabin_side', 'CryoSleep_True', 'VIP_True', 'Transported',]]"
      ]
    },
    {
      "cell_type": "code",
      "execution_count": null,
      "metadata": {
        "id": "B4EEDzoaX_iF"
      },
      "outputs": [],
      "source": [
        "test_set = test_set[['HomePlanet', 'Destination', 'Age', 'RoomService', 'FoodCourt', 'ShoppingMall', \n",
        "                      'Spa', 'VRDeck', 'Cabin_deck', 'Cabin_num', 'Cabin_side', 'CryoSleep_True', 'VIP_True']]"
      ]
    },
    {
      "cell_type": "markdown",
      "metadata": {
        "id": "0T57c4LnGaw8"
      },
      "source": [
        "### Creación nuevas variables"
      ]
    },
    {
      "cell_type": "code",
      "execution_count": null,
      "metadata": {
        "id": "hnDc5Fa3-asv",
        "colab": {
          "base_uri": "https://localhost:8080/"
        },
        "outputId": "cab0a415-4227-463c-d8f1-1d9bcbe9266a"
      },
      "outputs": [
        {
          "output_type": "stream",
          "name": "stdout",
          "text": [
            "<class 'pandas.core.frame.DataFrame'>\n",
            "RangeIndex: 8693 entries, 0 to 8692\n",
            "Data columns (total 14 columns):\n",
            " #   Column          Non-Null Count  Dtype  \n",
            "---  ------          --------------  -----  \n",
            " 0   HomePlanet      8693 non-null   int64  \n",
            " 1   Destination     8693 non-null   int64  \n",
            " 2   Age             8693 non-null   float64\n",
            " 3   RoomService     8693 non-null   float64\n",
            " 4   FoodCourt       8693 non-null   float64\n",
            " 5   ShoppingMall    8693 non-null   float64\n",
            " 6   Spa             8693 non-null   float64\n",
            " 7   VRDeck          8693 non-null   float64\n",
            " 8   Cabin_deck      8693 non-null   int64  \n",
            " 9   Cabin_num       8693 non-null   int64  \n",
            " 10  Cabin_side      8693 non-null   int64  \n",
            " 11  CryoSleep_True  8693 non-null   uint8  \n",
            " 12  VIP_True        8693 non-null   uint8  \n",
            " 13  Transported     8693 non-null   int64  \n",
            "dtypes: float64(6), int64(6), uint8(2)\n",
            "memory usage: 832.1 KB\n"
          ]
        }
      ],
      "source": [
        "train_set.info()"
      ]
    },
    {
      "cell_type": "code",
      "execution_count": null,
      "metadata": {
        "id": "p6g-k2siIODX"
      },
      "outputs": [],
      "source": [
        "train_set['Expediture'] = train_set['RoomService'] + train_set['FoodCourt'] + train_set['ShoppingMall'] + train_set['Spa'] + train_set['VRDeck']\n",
        "test_set['Expediture'] = test_set['RoomService'] + test_set['FoodCourt'] + test_set['ShoppingMall'] + test_set['Spa'] + test_set['VRDeck']"
      ]
    },
    {
      "cell_type": "code",
      "execution_count": null,
      "metadata": {
        "id": "kPYavzGYI8D5"
      },
      "outputs": [],
      "source": [
        "noexp = []\n",
        "\n",
        "for i in train_set['Expediture']:\n",
        "  if i > 0:\n",
        "    noexp.append(1)\n",
        "  else:\n",
        "    noexp.append(0)\n",
        "\n",
        "train_set['NoExpending'] = noexp"
      ]
    },
    {
      "cell_type": "code",
      "execution_count": null,
      "metadata": {
        "id": "qfobukiwJ0d0"
      },
      "outputs": [],
      "source": [
        "noexp = []\n",
        "\n",
        "for i in test_set['Expediture']:\n",
        "  if i > 0:\n",
        "    noexp.append(1)\n",
        "  else:\n",
        "    noexp.append(0)\n",
        "\n",
        "test_set['NoExpending'] = noexp"
      ]
    },
    {
      "cell_type": "code",
      "execution_count": null,
      "metadata": {
        "id": "pDIhLOnSKLbG",
        "colab": {
          "base_uri": "https://localhost:8080/"
        },
        "outputId": "b5138c59-230e-4a37-8982-9011829fd6e8"
      },
      "outputs": [
        {
          "output_type": "execute_result",
          "data": {
            "text/plain": [
              "0       3.0\n",
              "1       2.0\n",
              "2       3.0\n",
              "3       3.0\n",
              "4       1.0\n",
              "       ... \n",
              "8688    3.0\n",
              "8689    1.0\n",
              "8690    3.0\n",
              "8691    3.0\n",
              "8692    3.0\n",
              "Name: Age, Length: 8693, dtype: float64"
            ]
          },
          "metadata": {},
          "execution_count": 102
        }
      ],
      "source": [
        "bins = [0,18,25,100]\n",
        "names = ['1','2','3']\n",
        "train_set['Age'] = pd.cut(train_set['Age'], bins, labels=names, include_lowest=True)\n",
        "train_set['Age'].astype(float)"
      ]
    },
    {
      "cell_type": "code",
      "execution_count": null,
      "metadata": {
        "id": "gnnTmOWyLRmd",
        "colab": {
          "base_uri": "https://localhost:8080/"
        },
        "outputId": "b6c71931-822b-48ce-f80a-24b7d75f1014"
      },
      "outputs": [
        {
          "output_type": "execute_result",
          "data": {
            "text/plain": [
              "0       3.0\n",
              "1       2.0\n",
              "2       3.0\n",
              "3       3.0\n",
              "4       2.0\n",
              "       ... \n",
              "4272    3.0\n",
              "4273    3.0\n",
              "4274    3.0\n",
              "4275    3.0\n",
              "4276    3.0\n",
              "Name: Age, Length: 4277, dtype: float64"
            ]
          },
          "metadata": {},
          "execution_count": 103
        }
      ],
      "source": [
        "bins = [0,18,25,100]\n",
        "names = ['1','2','3']\n",
        "test_set['Age'] = pd.cut(test_set['Age'], bins, labels=names, include_lowest=True)\n",
        "test_set['Age'].astype(float)"
      ]
    },
    {
      "cell_type": "markdown",
      "metadata": {
        "id": "dxrzgxde7bay"
      },
      "source": [
        "### Balanceo de clases"
      ]
    },
    {
      "cell_type": "code",
      "execution_count": null,
      "metadata": {
        "id": "XmDIehHI7HTh",
        "colab": {
          "base_uri": "https://localhost:8080/"
        },
        "outputId": "ab931701-1b68-4aa6-b2a7-07e1bf385b87"
      },
      "outputs": [
        {
          "output_type": "stream",
          "name": "stdout",
          "text": [
            "Número total de registros en el conjunto de datos: 8693\n",
            "1    4378\n",
            "0    4315\n",
            "Name: Transported, dtype: int64\n"
          ]
        }
      ],
      "source": [
        "print('Número total de registros en el conjunto de datos:', train_set.shape[0])\n",
        "print(pd.value_counts(train_set['Transported'], sort = True))"
      ]
    },
    {
      "cell_type": "code",
      "execution_count": null,
      "metadata": {
        "id": "EfR025YU8lkJ",
        "colab": {
          "base_uri": "https://localhost:8080/",
          "height": 312
        },
        "outputId": "851008e2-7dfa-45e3-b963-6847ab771d9b"
      },
      "outputs": [
        {
          "output_type": "execute_result",
          "data": {
            "text/plain": [
              "Text(0, 0.5, 'Porcentaje %')"
            ]
          },
          "metadata": {},
          "execution_count": 105
        },
        {
          "output_type": "display_data",
          "data": {
            "text/plain": [
              "<Figure size 432x288 with 1 Axes>"
            ],
            "image/png": "[encoded data removed]"
          },
          "metadata": {
            "needs_background": "light"
          }
        }
      ],
      "source": [
        "clases = pd.value_counts(train_set['Transported'], sort = True, normalize=True)\n",
        "clases.plot(kind = 'bar', rot=0)\n",
        "labels = ['Transported', 'No Transported']\n",
        "\n",
        "plt.xticks(range(2), labels)\n",
        "plt.title(\"Frecuencia por clase\")\n",
        "plt.xlabel(\"Clase\")\n",
        "plt.ylabel(\"Porcentaje %\")"
      ]
    },
    {
      "cell_type": "markdown",
      "metadata": {
        "id": "b1JOniWhM-Z7"
      },
      "source": [
        "#### Partición Dataset"
      ]
    },
    {
      "cell_type": "code",
      "execution_count": null,
      "metadata": {
        "id": "rVmnGWTINA_K"
      },
      "outputs": [],
      "source": [
        "X = train_set.drop('Transported', axis=1)\n",
        "y = train_set['Transported']"
      ]
    },
    {
      "cell_type": "code",
      "execution_count": null,
      "metadata": {
        "id": "wL2f-0FNARXO"
      },
      "outputs": [],
      "source": [
        "X_train, X_test, y_train, y_test = train_test_split(X, y, test_size = 0.30, random_state=42, stratify=y)"
      ]
    },
    {
      "cell_type": "code",
      "execution_count": null,
      "metadata": {
        "id": "bc6QAXcaWmWa",
        "colab": {
          "base_uri": "https://localhost:8080/"
        },
        "outputId": "0c7f0bc5-93df-4c30-98ff-05527bedd974"
      },
      "outputs": [
        {
          "output_type": "stream",
          "name": "stdout",
          "text": [
            "RandomForestClassifier(random_state=42)\n",
            "Confusion Matrix: \n",
            " [[1082  213]\n",
            " [ 342  971]] \n",
            " Accuracy Score: \n",
            " 0.7871932515337423 \n",
            " Recall Score: \n",
            " 0.7395277989337395\n"
          ]
        }
      ],
      "source": [
        "rfc_old = RandomForestClassifier(random_state=42)\n",
        "rfc_old.fit(X_train, y_train)\n",
        "\n",
        "rfc_old_predictions = rfc_old.predict(X_test)\n",
        "\n",
        "print(rfc_old)\n",
        "\n",
        "print('Confusion Matrix: \\n {} \\n Accuracy Score: \\n {} \\n Recall Score: \\n {}'.format(\n",
        "    confusion_matrix(y_test, rfc_old_predictions),\n",
        "    accuracy_score(y_test, rfc_old_predictions), \n",
        "    recall_score(y_test, rfc_old_predictions)))"
      ]
    },
    {
      "cell_type": "markdown",
      "metadata": {
        "id": "IiINBHBhW6Nw"
      },
      "source": [
        "## Modelos Aprendizaje Supervisado"
      ]
    },
    {
      "cell_type": "code",
      "source": [
        "train_set.info()"
      ],
      "metadata": {
        "colab": {
          "base_uri": "https://localhost:8080/"
        },
        "id": "WitQKc6bRT2F",
        "outputId": "047f4be4-c3a2-4efc-94a0-5234d7665454"
      },
      "execution_count": null,
      "outputs": [
        {
          "output_type": "stream",
          "name": "stdout",
          "text": [
            "<class 'pandas.core.frame.DataFrame'>\n",
            "RangeIndex: 8693 entries, 0 to 8692\n",
            "Data columns (total 16 columns):\n",
            " #   Column          Non-Null Count  Dtype   \n",
            "---  ------          --------------  -----   \n",
            " 0   HomePlanet      8693 non-null   int64   \n",
            " 1   Destination     8693 non-null   int64   \n",
            " 2   Age             8693 non-null   category\n",
            " 3   RoomService     8693 non-null   float64 \n",
            " 4   FoodCourt       8693 non-null   float64 \n",
            " 5   ShoppingMall    8693 non-null   float64 \n",
            " 6   Spa             8693 non-null   float64 \n",
            " 7   VRDeck          8693 non-null   float64 \n",
            " 8   Cabin_deck      8693 non-null   int64   \n",
            " 9   Cabin_num       8693 non-null   int64   \n",
            " 10  Cabin_side      8693 non-null   int64   \n",
            " 11  CryoSleep_True  8693 non-null   uint8   \n",
            " 12  VIP_True        8693 non-null   uint8   \n",
            " 13  Transported     8693 non-null   int64   \n",
            " 14  Expediture      8693 non-null   float64 \n",
            " 15  NoExpending     8693 non-null   int64   \n",
            "dtypes: category(1), float64(6), int64(7), uint8(2)\n",
            "memory usage: 908.6 KB\n"
          ]
        }
      ]
    },
    {
      "cell_type": "code",
      "execution_count": null,
      "metadata": {
        "id": "2dRN12sQNIRM",
        "colab": {
          "base_uri": "https://localhost:8080/"
        },
        "outputId": "ae84b0c2-8e03-4994-a2b0-ebe881fbdbbb"
      },
      "outputs": [
        {
          "output_type": "stream",
          "name": "stderr",
          "text": [
            "/usr/local/lib/python3.7/dist-packages/sklearn/utils/validation.py:976: FutureWarning: Arrays of bytes/strings is being converted to decimal numbers if dtype='numeric'. This behavior is deprecated in 0.24 and will be removed in 1.1 (renaming of 0.26). Please convert your data to numeric values explicitly instead.\n",
            "  estimator=estimator,\n",
            "/usr/local/lib/python3.7/dist-packages/sklearn/base.py:566: FutureWarning: Arrays of bytes/strings is being converted to decimal numbers if dtype='numeric'. This behavior is deprecated in 0.24 and will be removed in 1.1 (renaming of 0.26). Please convert your data to numeric values explicitly instead.\n",
            "  X = check_array(X, **check_params)\n",
            "/usr/local/lib/python3.7/dist-packages/sklearn/base.py:566: FutureWarning: Arrays of bytes/strings is being converted to decimal numbers if dtype='numeric'. This behavior is deprecated in 0.24 and will be removed in 1.1 (renaming of 0.26). Please convert your data to numeric values explicitly instead.\n",
            "  X = check_array(X, **check_params)\n",
            "/usr/local/lib/python3.7/dist-packages/sklearn/base.py:566: FutureWarning: Arrays of bytes/strings is being converted to decimal numbers if dtype='numeric'. This behavior is deprecated in 0.24 and will be removed in 1.1 (renaming of 0.26). Please convert your data to numeric values explicitly instead.\n",
            "  X = check_array(X, **check_params)\n",
            "/usr/local/lib/python3.7/dist-packages/sklearn/linear_model/_logistic.py:818: ConvergenceWarning: lbfgs failed to converge (status=1):\n",
            "STOP: TOTAL NO. of ITERATIONS REACHED LIMIT.\n",
            "\n",
            "Increase the number of iterations (max_iter) or scale the data as shown in:\n",
            "    https://scikit-learn.org/stable/modules/preprocessing.html\n",
            "Please also refer to the documentation for alternative solver options:\n",
            "    https://scikit-learn.org/stable/modules/linear_model.html#logistic-regression\n",
            "  extra_warning_msg=_LOGISTIC_SOLVER_CONVERGENCE_MSG,\n",
            "/usr/local/lib/python3.7/dist-packages/sklearn/base.py:566: FutureWarning: Arrays of bytes/strings is being converted to decimal numbers if dtype='numeric'. This behavior is deprecated in 0.24 and will be removed in 1.1 (renaming of 0.26). Please convert your data to numeric values explicitly instead.\n",
            "  X = check_array(X, **check_params)\n",
            "/usr/local/lib/python3.7/dist-packages/sklearn/base.py:566: FutureWarning: Arrays of bytes/strings is being converted to decimal numbers if dtype='numeric'. This behavior is deprecated in 0.24 and will be removed in 1.1 (renaming of 0.26). Please convert your data to numeric values explicitly instead.\n",
            "  X = check_array(X, **check_params)\n",
            "/usr/local/lib/python3.7/dist-packages/sklearn/base.py:566: FutureWarning: Arrays of bytes/strings is being converted to decimal numbers if dtype='numeric'. This behavior is deprecated in 0.24 and will be removed in 1.1 (renaming of 0.26). Please convert your data to numeric values explicitly instead.\n",
            "  X = check_array(X, **check_params)\n",
            "/usr/local/lib/python3.7/dist-packages/sklearn/utils/validation.py:976: FutureWarning: Arrays of bytes/strings is being converted to decimal numbers if dtype='numeric'. This behavior is deprecated in 0.24 and will be removed in 1.1 (renaming of 0.26). Please convert your data to numeric values explicitly instead.\n",
            "  estimator=estimator,\n",
            "/usr/local/lib/python3.7/dist-packages/sklearn/base.py:566: FutureWarning: Arrays of bytes/strings is being converted to decimal numbers if dtype='numeric'. This behavior is deprecated in 0.24 and will be removed in 1.1 (renaming of 0.26). Please convert your data to numeric values explicitly instead.\n",
            "  X = check_array(X, **check_params)\n",
            "/usr/local/lib/python3.7/dist-packages/sklearn/base.py:566: FutureWarning: Arrays of bytes/strings is being converted to decimal numbers if dtype='numeric'. This behavior is deprecated in 0.24 and will be removed in 1.1 (renaming of 0.26). Please convert your data to numeric values explicitly instead.\n",
            "  X = check_array(X, **check_params)\n",
            "/usr/local/lib/python3.7/dist-packages/sklearn/base.py:566: FutureWarning: Arrays of bytes/strings is being converted to decimal numbers if dtype='numeric'. This behavior is deprecated in 0.24 and will be removed in 1.1 (renaming of 0.26). Please convert your data to numeric values explicitly instead.\n",
            "  X = check_array(X, **check_params)\n"
          ]
        }
      ],
      "source": [
        "models = {\n",
        "    \"K-NearestNeighbour\": KNeighborsClassifier(n_neighbors=9),\n",
        "    \"LogisticRegression\": LogisticRegression(random_state=44),\n",
        "    \"DecisionTree\": DecisionTreeClassifier(random_state=44),\n",
        "    \"RandomForest\": RandomForestClassifier(random_state=44),\n",
        "    \"GradiantBoosting\": GradientBoostingClassifier(random_state=44),\n",
        "    \"GaussianNaiveBayes\": GaussianNB()\n",
        "    #SVM\n",
        "}\n",
        "\n",
        "train_scores = {}\n",
        "test_scores = {}\n",
        "new_prediction = {}\n",
        "\n",
        "for model in models:\n",
        "    models[model].fit(X_train, y_train)\n",
        "    train_scores[model] = models[model].score(X_train, y_train)\n",
        "    test_scores[model] = models[model].score(X_test, y_test)\n",
        "    new_prediction[model] = models[model].predict(X_test)"
      ]
    },
    {
      "cell_type": "code",
      "execution_count": null,
      "metadata": {
        "id": "_s8kv6GYNR2q",
        "colab": {
          "base_uri": "https://localhost:8080/"
        },
        "outputId": "1d70f3af-0e63-440b-95ef-e9d85d3770d9"
      },
      "outputs": [
        {
          "output_type": "stream",
          "name": "stdout",
          "text": [
            "-------------------------------------------\n",
            "Score in training\n",
            "DecisionTree          0.994577\n",
            "RandomForest          0.994577\n",
            "GradiantBoosting      0.819392\n",
            "K-NearestNeighbour    0.808217\n",
            "LogisticRegression    0.787839\n",
            "GaussianNaiveBayes    0.727691\n",
            "dtype: float64\n",
            "-------------------------------------------\n"
          ]
        }
      ],
      "source": [
        "sorted_scores1 = pd.Series(train_scores).sort_values(ascending = False)\n",
        "print(\"-------------------------------------------\")\n",
        "print(\"Score in training\")\n",
        "print(sorted_scores1)\n",
        "print(\"-------------------------------------------\")"
      ]
    },
    {
      "cell_type": "code",
      "execution_count": null,
      "metadata": {
        "id": "Lq1VBukwNUAK",
        "colab": {
          "base_uri": "https://localhost:8080/"
        },
        "outputId": "8637ee8c-99ac-44ac-fd1d-960efc86be89"
      },
      "outputs": [
        {
          "output_type": "stream",
          "name": "stdout",
          "text": [
            "-------------------------------------------\n",
            "Score in test\n",
            "GradiantBoosting      0.802531\n",
            "RandomForest          0.790261\n",
            "LogisticRegression    0.784126\n",
            "K-NearestNeighbour    0.781058\n",
            "DecisionTree          0.741948\n",
            "GaussianNaiveBayes    0.731979\n",
            "dtype: float64\n",
            "-------------------------------------------\n"
          ]
        }
      ],
      "source": [
        "sorted_scores = pd.Series(test_scores).sort_values(ascending = False)\n",
        "print(\"-------------------------------------------\")\n",
        "print(\"Score in test\")\n",
        "print(sorted_scores)\n",
        "print(\"-------------------------------------------\")"
      ]
    },
    {
      "cell_type": "markdown",
      "metadata": {
        "id": "5mR4F-cTO5Bm"
      },
      "source": [
        "### Hiperparámetros"
      ]
    },
    {
      "cell_type": "markdown",
      "metadata": {
        "id": "Aij_I3klPrS1"
      },
      "source": [
        "#### KNN"
      ]
    },
    {
      "cell_type": "code",
      "execution_count": null,
      "metadata": {
        "id": "H_UGnBcTPuNQ"
      },
      "outputs": [],
      "source": [
        "# KNN\n",
        "neighbors = np.arange(1, 11)\n",
        "train_accuracy = np.empty(len(neighbors))\n",
        "test_accuracy = np.empty(len(neighbors))\n",
        "\n",
        "for i, k in enumerate(neighbors):\n",
        "    knn = KNeighborsClassifier(n_neighbors = k)\n",
        "    knn.fit(X_train, y_train)\n",
        "    train_accuracy[i] = knn.score(X_train, y_train)\n",
        "    test_accuracy[i] = knn.score(X_test, y_test)\n",
        "\n",
        "plt.title('k-NN: Varying Number of Neighbors')\n",
        "plt.plot(neighbors, test_accuracy, label = 'Testing Accuracy')\n",
        "plt.plot(neighbors, train_accuracy, label = 'Training Accuracy')\n",
        "plt.legend()\n",
        "plt.xlabel('Number of Neighbors')\n",
        "plt.ylabel('Accuracy')\n",
        "plt.show()"
      ]
    },
    {
      "cell_type": "markdown",
      "metadata": {
        "id": "RtvyRasY9T_P"
      },
      "source": [
        "#### Random Forest"
      ]
    },
    {
      "cell_type": "code",
      "execution_count": null,
      "metadata": {
        "id": "o2hB4NuE9WYV"
      },
      "outputs": [],
      "source": [
        "rfc_old = RandomForestClassifier(random_state=42)\n",
        "rfc_old.fit(X_train, y_train)\n",
        "\n",
        "rfc_old_predictions = rfc_old.predict(X_test)\n",
        "\n",
        "print(rfc_old)\n",
        "\n",
        "print('Confusion Matrix: \\n {} \\n Accuracy Score: \\n {} \\n Recall Score: \\n {}'.format(\n",
        "    confusion_matrix(y_test, rfc_old_predictions),\n",
        "    accuracy_score(y_test, rfc_old_predictions), \n",
        "    recall_score(y_test, rfc_old_predictions)))"
      ]
    },
    {
      "cell_type": "code",
      "execution_count": null,
      "metadata": {
        "id": "cEybtDGYBMBF"
      },
      "outputs": [],
      "source": [
        "train_set.columns"
      ]
    },
    {
      "cell_type": "code",
      "execution_count": null,
      "metadata": {
        "id": "jplYEiC8QLMA"
      },
      "outputs": [],
      "source": [
        "# Random Forest\n",
        "feature_imp = pd.Series(rfc_old.feature_importances_, index=X_train[['HomePlanet', 'Destination', 'Age', \n",
        "                        'RoomService', 'FoodCourt', 'ShoppingMall', 'Spa', 'VRDeck', 'Cabin_deck', 'Cabin_side', 'CryoSleep_True', 'VIP_True', 'Expediture', 'NoExpending']].columns).sort_values(ascending=False)\n",
        "feature_imp\n",
        "\n",
        "sns.barplot(x=feature_imp, y=feature_imp.index)\n",
        "plt.xlabel('Feature Importance Score')\n",
        "plt.ylabel('Features')\n",
        "plt.title(\"Visualizing Important Features\")\n",
        "plt.legend()\n",
        "plt.show()"
      ]
    },
    {
      "cell_type": "code",
      "execution_count": null,
      "metadata": {
        "id": "LyU-CViYKDju"
      },
      "outputs": [],
      "source": [
        "\"\"\"\n",
        "# Grid Search basado en Out-Of-Bag Score\n",
        "# Grid de hiperparámetros evaluados\n",
        "# ==============================================================================\n",
        "param_grid = ParameterGrid(\n",
        "                {'n_estimators': [100, 1000],\n",
        "                 'max_features': [5, 7, 9, 11, 13],\n",
        "                 'max_depth'   : [None, 3, 6, 9],\n",
        "                 'criterion'   : ['gini', 'entropy'],\n",
        "                }\n",
        "            )\n",
        "\n",
        "# Loop para ajustar un modelo con cada combinación de hiperparámetros\n",
        "# ==============================================================================\n",
        "resultados = {'params': [], 'oob_accuracy': []}\n",
        "\n",
        "for params in param_grid:\n",
        "    \n",
        "    modelo = RandomForestClassifier(\n",
        "                oob_score    = True,\n",
        "                n_jobs       = -1,\n",
        "                random_state = 42,\n",
        "                ** params\n",
        "             )\n",
        "    \n",
        "    modelo.fit(X_train, y_train)\n",
        "    \n",
        "    resultados['params'].append(params)\n",
        "    resultados['oob_accuracy'].append(modelo.oob_score_)\n",
        "    print(f\"Modelo: {params} \\u2713\")\n",
        "\n",
        "# Resultados\n",
        "# ==============================================================================\n",
        "resultados = pd.DataFrame(resultados)\n",
        "resultados = pd.concat([resultados, resultados['params'].apply(pd.Series)], axis=1)\n",
        "resultados = resultados.sort_values('oob_accuracy', ascending=False)\n",
        "resultados = resultados.drop(columns = 'params')\n",
        "resultados\n",
        "\"\"\""
      ]
    },
    {
      "cell_type": "code",
      "source": [
        "print(X_train.iloc[0])"
      ],
      "metadata": {
        "colab": {
          "base_uri": "https://localhost:8080/"
        },
        "id": "VWoeU80FiGp7",
        "outputId": "953a1ae8-6881-42b8-c83c-6fd8727cc810"
      },
      "execution_count": null,
      "outputs": [
        {
          "output_type": "stream",
          "name": "stdout",
          "text": [
            "HomePlanet           0\n",
            "Destination          2\n",
            "Age                  3\n",
            "RoomService        0.0\n",
            "FoodCourt          0.0\n",
            "ShoppingMall       0.0\n",
            "Spa                0.0\n",
            "VRDeck             0.0\n",
            "Cabin_deck           6\n",
            "Cabin_num         1366\n",
            "Cabin_side           1\n",
            "CryoSleep_True       1\n",
            "VIP_True             0\n",
            "Expediture         0.0\n",
            "NoExpending          0\n",
            "Name: 3395, dtype: object\n"
          ]
        }
      ]
    },
    {
      "cell_type": "code",
      "execution_count": null,
      "metadata": {
        "id": "Yeg43MSEL-MB"
      },
      "outputs": [],
      "source": [
        "rfc_best = RandomForestClassifier(n_estimators=1000, criterion='gini', max_depth=9, max_features=5, random_state=42, bootstrap=False)\n",
        "rfc_best.fit(X_train, y_train)\n",
        "\n",
        "rfc_best_predictions = rfc_best.predict(X_test)\n",
        "\n",
        "print(rfc_best)\n",
        "\n",
        "print('Confusion Matrix: \\n {} \\n Accuracy Score: \\n {} \\n Recall Score: \\n {}'.format(\n",
        "    confusion_matrix(y_test, rfc_best_predictions),\n",
        "    accuracy_score(y_test, rfc_best_predictions), \n",
        "    recall_score(y_test, rfc_best_predictions)))"
      ]
    },
    {
      "cell_type": "code",
      "execution_count": null,
      "metadata": {
        "id": "0QvKX8frFyyE"
      },
      "outputs": [],
      "source": [
        "dump(rfc_best, 'RandomForestv5SpaceshipTitanic.joblib')"
      ]
    },
    {
      "cell_type": "code",
      "execution_count": null,
      "metadata": {
        "id": "ZB5W10k5F671"
      },
      "outputs": [],
      "source": [
        "rfc_model = load('RandomForestv5SpaceshipTitanic.joblib')"
      ]
    },
    {
      "cell_type": "code",
      "execution_count": null,
      "metadata": {
        "id": "6IaAbMjRHFCr"
      },
      "outputs": [],
      "source": [
        "rfc_model_predictions = rfc_model.predict(test_set)\n",
        "rfc_model_predictions"
      ]
    },
    {
      "cell_type": "code",
      "execution_count": null,
      "metadata": {
        "id": "FGPH-DBZO4Cy"
      },
      "outputs": [],
      "source": [
        "print(X_test.iloc[0])"
      ]
    },
    {
      "cell_type": "code",
      "execution_count": null,
      "metadata": {
        "id": "4cctDUl2HgJ-"
      },
      "outputs": [],
      "source": [
        "sample = pd.read_csv('/content/drive/Shareddrives/TeamAI-4/Reto/sample_submission.csv')\n",
        "sample.head()"
      ]
    },
    {
      "cell_type": "code",
      "execution_count": null,
      "metadata": {
        "id": "NP52vLqZIRVD"
      },
      "outputs": [],
      "source": [
        "sample.drop(columns=['Transported'], inplace=True)"
      ]
    },
    {
      "cell_type": "code",
      "execution_count": null,
      "metadata": {
        "id": "T7dvzo3iIIrP"
      },
      "outputs": [],
      "source": [
        "sample['Transported'] = rfc_model_predictions"
      ]
    },
    {
      "cell_type": "code",
      "execution_count": null,
      "metadata": {
        "id": "Ou0KDM_RIcyl"
      },
      "outputs": [],
      "source": [
        "sample.replace(to_replace=0, value=False, inplace=True)\n",
        "sample.replace(to_replace=1, value=True, inplace=True)\n",
        "sample.to_csv('resultsRFCv5.csv')"
      ]
    },
    {
      "cell_type": "markdown",
      "metadata": {
        "id": "JscgvDODTZ8y"
      },
      "source": [
        "#### Gradient Boosting"
      ]
    },
    {
      "cell_type": "code",
      "execution_count": null,
      "metadata": {
        "id": "_F2jn5GhTcho"
      },
      "outputs": [],
      "source": [
        "from sklearn.ensemble import GradientBoostingClassifier\n",
        "\n",
        "# Set the learning rates & results storage\n",
        "learning_rates = [0.2, 0.21, 0.23, 0.25]\n",
        "results_list = []\n",
        "\n",
        "# Create the for loop to evaluate model predictions for each learning rate\n",
        "for learning_rate in learning_rates:\n",
        "    model = GradientBoostingClassifier(learning_rate=learning_rate, random_state=42)\n",
        "    predictions = model.fit(X_train, y_train).predict(X_test)\n",
        "    \n",
        "    # Save the learning rate and accuracy score\n",
        "    results_list.append([learning_rate, accuracy_score(y_test, predictions)])\n",
        "    \n",
        "# Gather everything into a DataFrame\n",
        "results_df = pd.DataFrame(results_list, columns=['learning_rate', 'accuracy'])\n",
        "print(results_df)"
      ]
    },
    {
      "cell_type": "code",
      "execution_count": null,
      "metadata": {
        "id": "Ta38dGORPzpt"
      },
      "outputs": [],
      "source": [
        "gbc_best = GradientBoostingClassifier(learning_rate=0.20, random_state=42)\n",
        "gbc_best.fit(X_train, y_train)\n",
        "\n",
        "gbc_best_predictions = gbc_best.predict(X_test)\n",
        "\n",
        "print(gbc_best)\n",
        "\n",
        "print('Confusion Matrix: \\n {} \\n Accuracy Score: \\n {} \\n Recall Score: \\n {}'.format(\n",
        "    confusion_matrix(y_test, gbc_best_predictions),\n",
        "    accuracy_score(y_test, gbc_best_predictions), \n",
        "    recall_score(y_test, gbc_best_predictions)))"
      ]
    },
    {
      "cell_type": "code",
      "execution_count": null,
      "metadata": {
        "id": "uUPHhu-OTB1R"
      },
      "outputs": [],
      "source": [
        "dump(gbc_best, 'GradientBoostingSpaceshipTitanic.joblib')"
      ]
    },
    {
      "cell_type": "code",
      "execution_count": null,
      "metadata": {
        "id": "XErGe9L8THcQ"
      },
      "outputs": [],
      "source": [
        "gbc_model = load('GradientBoostingSpaceshipTitanic.joblib')"
      ]
    },
    {
      "cell_type": "code",
      "execution_count": null,
      "metadata": {
        "id": "5_MCbE_fTOyP"
      },
      "outputs": [],
      "source": [
        "gbc_model_predictions = gbc_model.predict(test_set)\n",
        "gbc_model_predictions"
      ]
    },
    {
      "cell_type": "code",
      "source": [
        "print(X_test.iloc[0])"
      ],
      "metadata": {
        "id": "saGOd0fZRyMK"
      },
      "execution_count": null,
      "outputs": []
    },
    {
      "cell_type": "code",
      "execution_count": null,
      "metadata": {
        "id": "aGZGGavPTfco"
      },
      "outputs": [],
      "source": [
        "sample2 = pd.read_csv('/content/drive/Shareddrives/TeamAI-4/Reto/sample_submission.csv')\n",
        "sample2.head()"
      ]
    },
    {
      "cell_type": "code",
      "execution_count": null,
      "metadata": {
        "id": "B5x1fmUjTic5"
      },
      "outputs": [],
      "source": [
        "sample2.drop(columns=['Transported'], inplace=True)"
      ]
    },
    {
      "cell_type": "code",
      "execution_count": null,
      "metadata": {
        "id": "IgntJpz6Tm1-"
      },
      "outputs": [],
      "source": [
        "sample2['Transported'] = gbc_model_predictions"
      ]
    },
    {
      "cell_type": "code",
      "execution_count": null,
      "metadata": {
        "id": "4bqPLZxGTrax"
      },
      "outputs": [],
      "source": [
        "sample2.replace(to_replace=0, value=False, inplace=True)\n",
        "sample2.replace(to_replace=1, value=True, inplace=True)\n",
        "sample2.to_csv('resultsGBCv2.csv')"
      ]
    },
    {
      "cell_type": "code",
      "execution_count": null,
      "metadata": {
        "id": "_M2jPCZNoUVZ"
      },
      "outputs": [],
      "source": [
        "from sklearn import svm\n",
        "from sklearn.svm import SVC\n",
        "model = SVC()\n",
        "model.fit(X_train, y_train)\n",
        "model.score(X_test,y_test)"
      ]
    },
    {
      "cell_type": "markdown",
      "metadata": {
        "id": "m_qG6OYGuvBV"
      },
      "source": [
        "### Máquina de Soporte Vectorial"
      ]
    },
    {
      "cell_type": "code",
      "execution_count": null,
      "metadata": {
        "id": "iNS4Rjb4upjj"
      },
      "outputs": [],
      "source": [
        "kernels = ['linear', 'poly', 'rbf', 'sigmoid', 'precomputed']\n",
        "degrees = [3, 4, 5]\n",
        "shapes = ['ovo', 'ovr']\n",
        "for k in kernels:\n",
        "  for d in degrees:\n",
        "    for s in shapes:\n",
        "      model = SVC(kernel = k, degree= d, decision_function_shape = s)\n",
        "      model.fit(X_train, y_train)\n",
        "      print(k,d,s)\n",
        "      print(model.score(X_train, y_train))\n",
        "      print(model.score(X_test, y_test))\n",
        "    \n",
        "\n",
        "#kernel{‘linear’, ‘poly’, ‘rbf’, ‘sigmoid’, ‘precomputed’} or callable, default=’rbf’\n",
        "#degreeint, default=3\n",
        "#decision_function_shape{‘ovo’, ‘ovr’}, default=’ovr’\n"
      ]
    },
    {
      "cell_type": "markdown",
      "metadata": {
        "id": "mNUBnfI0NegI"
      },
      "source": [
        "## Modelos Aprendizaje Profundo"
      ]
    },
    {
      "cell_type": "code",
      "execution_count": null,
      "metadata": {
        "id": "fixAiwZmP7zE"
      },
      "outputs": [],
      "source": [
        "NN = Sequential()\n",
        "NN.add(Dense(units = 512, input_dim = X_train.shape[1], activation = \"relu\")) \n",
        "NN.add(Dense(units = 512, activation = \"relu\")) \n",
        "NN.add(Dense(units = 1, activation= \"sigmoid\"))\n",
        "NN.compile(loss=\"binary_crossentropy\", metrics=\"accuracy\")\n",
        "\n",
        "NN.summary()"
      ]
    },
    {
      "cell_type": "code",
      "execution_count": null,
      "metadata": {
        "id": "iSVRjj7sBnUP"
      },
      "outputs": [],
      "source": [
        "hist = NN.fit(X_train, y_train, validation_data=(X_test, y_test), epochs = 30, verbose = 1, batch_size=32)"
      ]
    },
    {
      "cell_type": "code",
      "execution_count": null,
      "metadata": {
        "id": "V157zaRzRUpL"
      },
      "outputs": [],
      "source": [
        "import seaborn as sns\n",
        "import matplotlib.pyplot as plt\n",
        "%matplotlib inline\n",
        "\n",
        "sns.set()\n",
        "acc = hist.history['accuracy']\n",
        "val = hist.history['val_accuracy']\n",
        "epochs = range(1, len(acc) + 1)\n",
        "\n",
        "plt.plot(epochs, acc, '-', label='Training accuracy')\n",
        "plt.plot(epochs, val, ':', label='Validation accuracy')\n",
        "plt.title('Training and Validation Accuracy')\n",
        "plt.xlabel('Epoch')\n",
        "plt.ylabel('Accuracy')\n",
        "plt.legend(loc='lower right')"
      ]
    },
    {
      "cell_type": "code",
      "execution_count": null,
      "metadata": {
        "id": "xMpIaIsnRXDe"
      },
      "outputs": [],
      "source": [
        "df = pd.DataFrame(hist.history)\n",
        "df"
      ]
    },
    {
      "cell_type": "code",
      "execution_count": null,
      "metadata": {
        "id": "NGmNEYxjRZpZ"
      },
      "outputs": [],
      "source": [
        "df.plot( y = \"loss\", title = \"Loss vs Epoch (Learning Curve)\")"
      ]
    },
    {
      "cell_type": "code",
      "execution_count": null,
      "metadata": {
        "id": "Yq1XusxcRbgj"
      },
      "outputs": [],
      "source": [
        "df.plot( y = \"accuracy\", title = \"accuracy vs Epoch\")"
      ]
    },
    {
      "cell_type": "code",
      "execution_count": null,
      "metadata": {
        "id": "GfQc7phtReEy"
      },
      "outputs": [],
      "source": [
        "# Evaluate the Neuronal Network\n",
        "loss, accuracy = NN.evaluate(X_test, y_test)\n",
        "print(\"loss\", loss)\n",
        "print(\"acc\", accuracy)"
      ]
    },
    {
      "cell_type": "code",
      "execution_count": null,
      "metadata": {
        "id": "ra1MwSM4RgW1"
      },
      "outputs": [],
      "source": [
        "# Train\n",
        "Predictions = NN.predict(X_train).reshape(1,-1)\n",
        "Predictions[Predictions>=0.5] = 1\n",
        "Predictions[Predictions<0.5] = 0\n",
        "print(\"Precisión: \",np.sum(Predictions[0]==y_train)/len(y_train))\n",
        "print(classification_report(y_train, Predictions[0]))"
      ]
    },
    {
      "cell_type": "code",
      "execution_count": null,
      "metadata": {
        "id": "lmR9hahVRkNz"
      },
      "outputs": [],
      "source": [
        "# Test\n",
        "Predictions = NN.predict(X_test).reshape(1,-1)\n",
        "Predictions[Predictions>=0.5] = 1\n",
        "Predictions[Predictions<0.5] = 0\n",
        "print(\"Precisión: \",np.sum(Predictions[0]==y_test)/len(y_test))\n",
        "print(classification_report(y_test, Predictions[0]))"
      ]
    },
    {
      "cell_type": "markdown",
      "metadata": {
        "id": "YmwtbOvER37J"
      },
      "source": [
        "### Hiperparámetros"
      ]
    },
    {
      "cell_type": "markdown",
      "metadata": {
        "id": "BC-Gx1ISR6sP"
      },
      "source": [
        "#### NN"
      ]
    },
    {
      "cell_type": "code",
      "execution_count": null,
      "metadata": {
        "id": "LIgHzNNgR75h"
      },
      "outputs": [],
      "source": [
        "estimator = KerasClassifier(build_fn=NN, epochs=50, batch_size=32, verbose=1)\n",
        "\n",
        "# define the grid search parameters\n",
        "learn_rate = [0.001, 0.01, 0.1]\n",
        "momentum = [0.0, 0.2, 0.4, 0.6, 0.8]\n",
        "\n",
        "param_grid = dict(optimizer__learning_rate=learn_rate, optimizer__momentum=momentum)\n",
        "grid = GridSearchCV(estimator=estimator, param_grid=param_grid, n_jobs=-1, cv=3)\n",
        "grid_result = grid.fit(X_train, y_train)\n",
        "\n",
        "# summarize results\n",
        "print(\"Best: %f using %s\" % (grid_result.best_score_, grid_result.best_params_))\n",
        "means = grid_result.cv_results_['mean_test_score']\n",
        "stds = grid_result.cv_results_['std_test_score']\n",
        "params = grid_result.cv_results_['params']\n",
        "for mean, stdev, param in zip(means, stds, params):\n",
        "    print(\"%f (%f) with: %r\" % (mean, stdev, param))"
      ]
    },
    {
      "cell_type": "code",
      "execution_count": null,
      "metadata": {
        "id": "xUvxx5VpUs2a"
      },
      "outputs": [],
      "source": [
        "NN_best = Sequential()\n",
        "NN_best.add(Dense(units = 512, input_dim = X_train.shape[1], activation = \"relu\")) \n",
        "NN_best.add(Dense(units = 512, activation = \"relu\")) \n",
        "NN_best.add(Dense(units = 1, activation= \"sigmoid\"))\n",
        "\n",
        "#opt = keras.optimizers.Adam(learning_rate=0.0001)\n",
        "mae = keras.metrics.MeanAbsoluteError()\n",
        "NN_best.compile(loss=\"binary_crossentropy\", metrics=[\"accuracy\", mae])\n",
        "\n",
        "NN_best.summary()"
      ]
    },
    {
      "cell_type": "code",
      "execution_count": null,
      "metadata": {
        "id": "ZcNx5M44UiUF"
      },
      "outputs": [],
      "source": [
        "hist_best = NN_best.fit(X_train, y_train, validation_data=(X_test, y_test), epochs = 30, verbose = 1, batch_size=32)"
      ]
    },
    {
      "cell_type": "code",
      "execution_count": null,
      "metadata": {
        "id": "ILvIT3ZzWalt"
      },
      "outputs": [],
      "source": [
        "import seaborn as sns\n",
        "import matplotlib.pyplot as plt\n",
        "%matplotlib inline\n",
        "\n",
        "sns.set()\n",
        "acc = hist_best.history['accuracy']\n",
        "val = hist_best.history['val_accuracy']\n",
        "epochs = range(1, len(acc) + 1)\n",
        "\n",
        "plt.plot(epochs, acc, '-', label='Training accuracy')\n",
        "plt.plot(epochs, val, ':', label='Validation accuracy')\n",
        "plt.title('Training and Validation Accuracy')\n",
        "plt.xlabel('Epoch')\n",
        "plt.ylabel('Accuracy')\n",
        "plt.legend(loc='lower right')"
      ]
    },
    {
      "cell_type": "code",
      "execution_count": null,
      "metadata": {
        "id": "qumvFpf2W9K5"
      },
      "outputs": [],
      "source": [
        "dump(NN_best, 'NeuronalNetworkSpaceshipTitanic.joblib')"
      ]
    },
    {
      "cell_type": "code",
      "execution_count": null,
      "metadata": {
        "id": "9WuLr84mXKwk"
      },
      "outputs": [],
      "source": [
        "NN_model = load('NeuronalNetworkSpaceshipTitanic.joblib')"
      ]
    },
    {
      "cell_type": "code",
      "execution_count": null,
      "metadata": {
        "id": "mf199CtUXZW4"
      },
      "outputs": [],
      "source": [
        "NN_model_predictions = NN_model.evaluate(test_set)\n",
        "NN_model_predictions"
      ]
    }
  ],
  "metadata": {
    "colab": {
      "collapsed_sections": [
        "myeR5JHC3hPY",
        "8om-oVDC3hPZ",
        "Dte9DUhF3hPd",
        "TIxaOdwz3hPe",
        "KU3fGjkC3hPf",
        "55p1WSHv3hPf",
        "gW_K7FHw3hPg",
        "W-S99ROY3hPh",
        "FgAssqHi3hPi",
        "srTNsmbZ3hPj",
        "NazgMPSq3hPl",
        "od0FHlCU3hPm"
      ],
      "provenance": [],
      "toc_visible": true
    },
    "kernelspec": {
      "display_name": "Python 3.8.10 64-bit (windows store)",
      "language": "python",
      "name": "python3"
    },
    "language_info": {
      "codemirror_mode": {
        "name": "ipython",
        "version": 3
      },
      "file_extension": ".py",
      "mimetype": "text/x-python",
      "name": "python",
      "nbconvert_exporter": "python",
      "pygments_lexer": "ipython3",
      "version": "3.8.10"
    },
    "vscode": {
      "interpreter": {
        "hash": "38fe57aa8432f7d5e72cbcf57ff5720abd0b0b382b263162702dd2b01b9082c0"
      }
    }
  },
  "nbformat": 4,
  "nbformat_minor": 0
}